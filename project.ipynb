{
 "cells": [
  {
   "cell_type": "markdown",
   "id": "nY-kOt9okZa7",
   "metadata": {
    "id": "nY-kOt9okZa7"
   },
   "source": [
    "**Document scanner with image enhancement and compression**"
   ]
  },
  {
   "cell_type": "markdown",
   "id": "GTdheaRFkU2w",
   "metadata": {
    "id": "GTdheaRFkU2w"
   },
   "source": [
    "**Mount Google Drive**\n"
   ]
  },
  {
   "cell_type": "code",
   "execution_count": null,
   "id": "0muawpoMjkpo",
   "metadata": {
    "colab": {
     "base_uri": "https://localhost:8080/"
    },
    "id": "0muawpoMjkpo",
    "outputId": "035a3425-5eb4-4295-ccd3-0e9fa4ec256a"
   },
   "outputs": [],
   "source": [
    "\"\"\"from google.colab import drive\n",
    "from pathlib import Path\n",
    "drive.mount(\"/content/gdrive\", force_remount=True)    #mounting gdrive folder\"\"\""
   ]
  },
  {
   "cell_type": "markdown",
   "id": "0PwAZXvOk-ux",
   "metadata": {
    "id": "0PwAZXvOk-ux"
   },
   "source": [
    "**Import Library**"
   ]
  },
  {
   "cell_type": "code",
   "execution_count": null,
   "id": "5DKU1d-WkAI1",
   "metadata": {
    "colab": {
     "base_uri": "https://localhost:8080/",
     "height": 320
    },
    "id": "5DKU1d-WkAI1",
    "outputId": "a82a6687-6b4b-4aec-97b5-968dd0d421b4"
   },
   "outputs": [],
   "source": [
    "#%load_ext autoreload\n",
    "#%autoreload 2\n",
    "import glob\n",
    "from PIL import Image\n",
    "import sys\n",
    "import cv2\n",
    "import numpy as np\n",
    "from matplotlib import pyplot as plt\n",
    "from pathlib import Path\n",
    "cv_img=[]\n",
    "image = cv2.imread(\"test pics/test_image.jpeg\")\n",
    "plt.imshow(image, cmap = 'gray')"
   ]
  },
  {
   "cell_type": "code",
   "execution_count": null,
   "id": "cs8PhtZYkJes",
   "metadata": {
    "id": "cs8PhtZYkJes"
   },
   "outputs": [],
   "source": []
  },
  {
   "cell_type": "markdown",
   "id": "16f1d30a",
   "metadata": {
    "id": "16f1d30a"
   },
   "source": [
    "# Automatic recognition of the document from the image "
   ]
  },
  {
   "cell_type": "markdown",
   "id": "67a2c440",
   "metadata": {
    "id": "67a2c440"
   },
   "source": [
    "\n",
    "Technique Used:\n",
    "\n",
    "    1) Blur the image slightly so the contents written over it fades away\n",
    "    2) Apply thresholding to separate the paper from background\n",
    "    3) Perform morphological operations to get rid of extra/tiny areas falsely detected\n",
    "    4) Find the possible closed contours in the thresholded image\n",
    "    5) Approximate the contours to polygons and separate the ones which have 4 sides (since documents are usually considered to be paper with 4 sides)\n",
    "    6) Find the area of all contours approximated with 4 sides\n",
    "    7) Select the polygon with largest contour area to be the document area"
   ]
  },
  {
   "cell_type": "code",
   "execution_count": null,
   "id": "40598966",
   "metadata": {
    "colab": {
     "base_uri": "https://localhost:8080/",
     "height": 35
    },
    "id": "40598966",
    "outputId": "e15761e2-9713-486a-cb71-e9d7db27e1e3"
   },
   "outputs": [],
   "source": [
    "\"\"\"#import test image\n",
    "\n",
    "import cv2\n",
    "import matplotlib.pyplot as plt\n",
    "import numpy as np\n",
    "\n",
    "image = cv2.imread(\"test.jpeg\")\n",
    "plt.imshow(image, cmap = 'gray')\"\"\""
   ]
  },
  {
   "cell_type": "code",
   "execution_count": null,
   "id": "9cadff1d",
   "metadata": {
    "colab": {
     "base_uri": "https://localhost:8080/",
     "height": 286
    },
    "id": "9cadff1d",
    "outputId": "46d532d8-9a9b-420e-a456-291e677681f0"
   },
   "outputs": [],
   "source": [
    "#blurring and thresholding\n",
    "blur = cv2.GaussianBlur(image, (3,3), 0)\n",
    "hls = cv2.cvtColor(blur, cv2.COLOR_BGR2HLS)\n",
    "low = np.array([0, 70, 0])\n",
    "high = np.array([255, 255, 85])\n",
    "thresh = cv2.inRange(hls, low, high)\n",
    "plt.imshow(thresh, cmap = 'gray')"
   ]
  },
  {
   "cell_type": "code",
   "execution_count": null,
   "id": "611c2a7c",
   "metadata": {
    "colab": {
     "base_uri": "https://localhost:8080/",
     "height": 286
    },
    "id": "611c2a7c",
    "outputId": "a3cec3aa-fa1a-4e22-fbc5-ba53f2f9b563"
   },
   "outputs": [],
   "source": [
    "# morphological closing and opening operation\n",
    "kclose = np.ones((2,2), dtype=np.uint8)\n",
    "kopen = np.ones((5,5), dtype=np.uint8)\n",
    "closing = cv2.morphologyEx(thresh, cv2.MORPH_CLOSE, kclose, iterations=2)\n",
    "opening = cv2.morphologyEx(closing, cv2.MORPH_OPEN, kopen, iterations=6)\n",
    "plt.imshow(opening, cmap = 'gray')"
   ]
  },
  {
   "cell_type": "code",
   "execution_count": null,
   "id": "a63a2491",
   "metadata": {
    "colab": {
     "base_uri": "https://localhost:8080/",
     "height": 286
    },
    "id": "a63a2491",
    "outputId": "3119ba3b-30ae-44dc-c719-66c952628814"
   },
   "outputs": [],
   "source": [
    "#check the convex hull of the thresolded image \n",
    "from skimage.morphology import convex_hull_image\n",
    "chull = convex_hull_image(opening)\n",
    "plt.imshow(chull, cmap = 'gray')"
   ]
  },
  {
   "cell_type": "code",
   "execution_count": null,
   "id": "a718d745",
   "metadata": {
    "id": "a718d745"
   },
   "outputs": [],
   "source": [
    "#find all contours in the image\n",
    "contours, _ = cv2.findContours(opening, cv2.RETR_TREE, cv2.CHAIN_APPROX_NONE)"
   ]
  },
  {
   "cell_type": "code",
   "execution_count": null,
   "id": "38930f76",
   "metadata": {
    "colab": {
     "base_uri": "https://localhost:8080/",
     "height": 286
    },
    "id": "38930f76",
    "outputId": "b824bbd0-5714-4bec-b779-dc7e185bd124"
   },
   "outputs": [],
   "source": [
    "#show all contours detected in the image\n",
    "cnt_image = image\n",
    "for cnt in contours:\n",
    "    approx = cv2.approxPolyDP(cnt, 0.04*cv2.arcLength(cnt,True), True)\n",
    "    cv2.drawContours(cnt_image, [approx], 0, (0,0,0), 5)\n",
    "    x = approx.ravel()[0]\n",
    "    y = approx.ravel()[1]\n",
    "    #print (len(approx))\n",
    "#     if len(approx) == 4:\n",
    "#         cv2.drawContours(image, [approx], 0, (0,0,0), 5)\n",
    "#         cv2.putText(image, \"Quad\", (x,y), cv2.FONT_HERSHEY_COMPLEX, 0.5, (0,0,0))\n",
    "#         print(approx)\n",
    "        #cnt_area.append()\n",
    "plt.imshow(cnt_image, cmap = 'gray')\n",
    "        "
   ]
  },
  {
   "cell_type": "code",
   "execution_count": null,
   "id": "5abd8851",
   "metadata": {
    "id": "5abd8851"
   },
   "outputs": [],
   "source": [
    "#find the 4-sided polygon with maximum area\n",
    "max_cnt_area = 0\n",
    "max_cnt = []\n",
    "for cnt in contours:\n",
    "    approx = cv2.approxPolyDP(cnt, 0.03*cv2.arcLength(cnt,True), True)\n",
    "    if len(approx) == 4:\n",
    "        cnt_area = cv2.contourArea(cnt)\n",
    "        if cnt_area > max_cnt_area:\n",
    "            max_cnt_area = cnt_area\n",
    "            max_cnt = approx"
   ]
  },
  {
   "cell_type": "code",
   "execution_count": null,
   "id": "a3529471",
   "metadata": {
    "colab": {
     "base_uri": "https://localhost:8080/"
    },
    "id": "a3529471",
    "outputId": "2c3748a5-99e4-479b-ebd8-440fa99b24f1"
   },
   "outputs": [],
   "source": [
    "#coordinates of selected polygon\n",
    "max_cnt"
   ]
  },
  {
   "cell_type": "markdown",
   "id": "661159d5",
   "metadata": {
    "id": "661159d5"
   },
   "source": [
    "# Warp the recognised document area to rectangular shape\n"
   ]
  },
  {
   "cell_type": "markdown",
   "id": "44a96d7f",
   "metadata": {
    "id": "44a96d7f"
   },
   "source": [
    "Technique Used:\n",
    "\n",
    "    1) Find approximate height and width of the area recognised\n",
    "    2) Map the corner coordinates of selected polygon to the resized image\n",
    "    3) Warp the polygon to resized image"
   ]
  },
  {
   "cell_type": "code",
   "execution_count": null,
   "id": "91bc4df4",
   "metadata": {
    "id": "91bc4df4"
   },
   "outputs": [],
   "source": [
    "#find height and width of recognised document area\n",
    "\n",
    "x = max_cnt[:,:,0].ravel()\n",
    "y = max_cnt[:,:,1].ravel()\n",
    "# print(x)\n",
    "# print(y)\n",
    "p1 = min(x)\n",
    "p2 = max(x)\n",
    "q1 = min(y)\n",
    "q2 = max(y)\n",
    "cx = (p1+p2)/2\n",
    "cy = (q1+q2)/2\n",
    "w = p2-p1\n",
    "h=q2-q1"
   ]
  },
  {
   "cell_type": "code",
   "execution_count": null,
   "id": "6e6d4dad",
   "metadata": {
    "id": "6e6d4dad"
   },
   "outputs": [],
   "source": [
    "#Map corner coordinates of resized image with height and width\n",
    "if x[0] > x[1]:\n",
    "    x1 = w\n",
    "    x2 = 0\n",
    "    x3 = 0\n",
    "    x4 = w\n",
    "    y1 = 0\n",
    "    y2 = 0\n",
    "    y3 = h\n",
    "    y4 = h\n",
    "else:\n",
    "    x1 = 0\n",
    "    x2 = 0\n",
    "    x3 = w\n",
    "    x4 = w\n",
    "    y1 = 0\n",
    "    y2 = h\n",
    "    y3 = h\n",
    "    y4 = 0"
   ]
  },
  {
   "cell_type": "code",
   "execution_count": null,
   "id": "f4c58bf4",
   "metadata": {
    "id": "f4c58bf4"
   },
   "outputs": [],
   "source": [
    "#Source image corner coordinates\n",
    "pts1 = np.float32(max_cnt)"
   ]
  },
  {
   "cell_type": "code",
   "execution_count": null,
   "id": "e93cd3d8",
   "metadata": {
    "id": "e93cd3d8"
   },
   "outputs": [],
   "source": [
    "#pts1 = np.float32([[1098,61] ,[ 142  , 98], [ 133, 1499],[1173 ,1530]])"
   ]
  },
  {
   "cell_type": "code",
   "execution_count": null,
   "id": "2c5763b3",
   "metadata": {
    "id": "2c5763b3"
   },
   "outputs": [],
   "source": [
    "##destination image corner coordinates\n",
    "width = w\n",
    "height = h\n",
    "pts2 = np.float32([[x1,y1],[x2,y2],[x3,y3],[x4,y4]])"
   ]
  },
  {
   "cell_type": "code",
   "execution_count": null,
   "id": "561f16bf",
   "metadata": {
    "id": "561f16bf"
   },
   "outputs": [],
   "source": [
    "#Perspective transform: deform the pixel grid and map this deformed grid to the destination image\n",
    "matrix = cv2.getPerspectiveTransform(pts1, pts2)"
   ]
  },
  {
   "cell_type": "code",
   "execution_count": null,
   "id": "00ef01c9",
   "metadata": {
    "id": "00ef01c9"
   },
   "outputs": [],
   "source": [
    "#fit the size of the image to the size of the given image \n",
    "imgOut = cv2.warpPerspective(image,matrix,(width,height))"
   ]
  },
  {
   "cell_type": "code",
   "execution_count": null,
   "id": "7965d7ad",
   "metadata": {
    "colab": {
     "base_uri": "https://localhost:8080/",
     "height": 286
    },
    "id": "7965d7ad",
    "outputId": "76cb1ce1-c039-446b-e829-5dc2f1fd24b8"
   },
   "outputs": [],
   "source": [
    "#perspective transformed and warped image\n",
    "plt.imshow(imgOut, cmap = 'gray')"
   ]
  },
  {
   "cell_type": "code",
   "execution_count": null,
   "id": "a675fbde",
   "metadata": {
    "colab": {
     "base_uri": "https://localhost:8080/"
    },
    "id": "a675fbde",
    "outputId": "0819ab3e-8355-4f8f-94fd-db49dec087d1"
   },
   "outputs": [],
   "source": [
    "#save the transformed image to current directory\n",
    "\n",
    "cv2.imwrite(\"test pics/transform_img.jpg\",imgOut)"
   ]
  },
  {
   "cell_type": "markdown",
   "id": "Jk9ZMm1w2u_Z",
   "metadata": {
    "id": "Jk9ZMm1w2u_Z"
   },
   "source": [
    "### Image enhancement(magic filter)"
   ]
  },
  {
   "cell_type": "code",
   "execution_count": null,
   "id": "X8J8Rpn28DET",
   "metadata": {
    "colab": {
     "base_uri": "https://localhost:8080/",
     "height": 1000
    },
    "id": "X8J8Rpn28DET",
    "outputId": "8e8adff2-6aa8-424e-b4bb-397ea164afa6"
   },
   "outputs": [],
   "source": [
    "img1= cv2.imread(\"test pics/TEST1.jpeg\")       # reading image\n",
    "k=Image.fromarray(img1)\n",
    "k"
   ]
  },
  {
   "cell_type": "markdown",
   "id": "aJmowcLh3GHr",
   "metadata": {
    "id": "aJmowcLh3GHr"
   },
   "source": [
    "implementing moving average expression![Capture1.JPG](data:image/jpeg;base64,/9j/4AAQSkZJRgABAQEAYABgAAD/4RDoRXhpZgAATU0AKgAAAAgABAE7AAIAAAAKAAAISodpAAQAAAABAAAIVJydAAEAAAAUAAAQzOocAAcAAAgMAAAAPgAAAAAc6gAAAAgAAAAAAAAAAAAAAAAAAAAAAAAAAAAAAAAAAAAAAAAAAAAAAAAAAAAAAAAAAAAAAAAAAAAAAAAAAAAAAAAAAAAAAAAAAAAAAAAAAAAAAAAAAAAAAAAAAAAAAAAAAAAAAAAAAAAAAAAAAAAAAAAAAAAAAAAAAAAAAAAAAAAAAAAAAAAAAAAAAAAAAAAAAAAAAAAAAAAAAAAAAAAAAAAAAAAAAAAAAAAAAAAAAAAAAAAAAAAAAAAAAAAAAAAAAAAAAAAAAAAAAAAAAAAAAAAAAAAAAAAAAAAAAAAAAAAAAAAAAAAAAAAAAAAAAAAAAAAAAAAAAAAAAAAAAAAAAAAAAAAAAAAAAAAAAAAAAAAAAAAAAAAAAAAAAAAAAAAAAAAAAAAAAAAAAAAAAAAAAAAAAAAAAAAAAAAAAAAAAAAAAAAAAAAAAAAAAAAAAAAAAAAAAAAAAAAAAAAAAAAAAAAAAAAAAAAAAAAAAAAAAAAAAAAAAAAAAAAAAAAAAAAAAAAAAAAAAAAAAAAAAAAAAAAAAAAAAAAAAAAAAAAAAAAAAAAAAAAAAAAAAAAAAAAAAAAAAAAAAAAAAAAAAAAAAAAAAAAAAAAAAAAAAAAAAAAAAAAAAAAAAAAAAAAAAAAAAAAAAAAAAAAAAAAAAAAAAAAAAAAAAAAAAAAAAAAAAAAAAAAAAAAAAAAAAAAAAAAAAAAAAAAAAAAAAAAAAAAAAAAAAAAAAAAAAAAAAAAAAAAAAAAAAAAAAAAAAAAAAAAAAAAAAAAAAAAAAAAAAAAAAAAAAAAAAAAAAAAAAAAAAAAAAAAAAAAAAAAAAAAAAAAAAAAAAAAAAAAAAAAAAAAAAAAAAAAAAAAAAAAAAAAAAAAAAAAAAAAAAAAAAAAAAAAAAAAAAAAAAAAAAAAAAAAAAAAAAAAAAAAAAAAAAAAAAAAAAAAAAAAAAAAAAAAAAAAAAAAAAAAAAAAAAAAAAAAAAAAAAAAAAAAAAAAAAAAAAAAAAAAAAAAAAAAAAAAAAAAAAAAAAAAAAAAAAAAAAAAAAAAAAAAAAAAAAAAAAAAAAAAAAAAAAAAAAAAAAAAAAAAAAAAAAAAAAAAAAAAAAAAAAAAAAAAAAAAAAAAAAAAAAAAAAAAAAAAAAAAAAAAAAAAAAAAAAAAAAAAAAAAAAAAAAAAAAAAAAAAAAAAAAAAAAAAAAAAAAAAAAAAAAAAAAAAAAAAAAAAAAAAAAAAAAAAAAAAAAAAAAAAAAAAAAAAAAAAAAAAAAAAAAAAAAAAAAAAAAAAAAAAAAAAAAAAAAAAAAAAAAAAAAAAAAAAAAAAAAAAAAAAAAAAAAAAAAAAAAAAAAAAAAAAAAAAAAAAAAAAAAAAAAAAAAAAAAAAAAAAAAAAAAAAAAAAAAAAAAAAAAAAAAAAAAAAAAAAAAAAAAAAAAAAAAAAAAAAAAAAAAAAAAAAAAAAAAAAAAAAAAAAAAAAAAAAAAAAAAAAAAAAAAAAAAAAAAAAAAAAAAAAAAAAAAAAAAAAAAAAAAAAAAAAAAAAAAAAAAAAAAAAAAAAAAAAAAAAAAAAAAAAAAAAAAAAAAAAAAAAAAAAAAAAAAAAAAAAAAAAAAAAAAAAAAAAAAAAAAAAAAAAAAAAAAAAAAAAAAAAAAAAAAAAAAAAAAAAAAAAAAAAAAAAAAAAAAAAAAAAAAAAAAAAAAAAAAAAAAAAAAAAAAAAAAAAAAAAAAAAAAAAAAAAAAAAAAAAAAAAAAAAAAAAAAAAAAAAAAAAAAAAAAAAAAAAAAAAAAAAAAAAAAAAAAAAAAAAAAAAAAAAAAAAAAAAAAAAAAAAAAAAAAAAAAAAAAAAAAAAAAAAAAAAAAAAAAAAAAAAAAAAAAAAAAAAAAAAAAAAAAAAAAAAAAAAAAAAAAAAAAAAAAAAAAAAAAAAAAAAAAAAAAAAAAAAAAAAAAAAAAAAAAAAAAAAAAAAAAAAAAAAAAAAAAAAAAAAAAAAAAAAAAAAAAAAAAAAAAAAAAAAAAAAAAAAAAAAAAAAAAAAAAAAAAAAAAAAAAAAAAAAAAAAAAAAAAAAAAAAAAAAAAAAAAAAAAAAAAAAAAAAAAAAAAAAAAAAAAAAAAAAAAAAAAAAAAAAAAAAAAAAAAAAAAAAAAAAAAAAAAAAAAAAAAAAAAAAAAAAAAAAAAAAAAAAAAAAAAAAAAAAAAAAAAAAAAAAAAAAAAAAAAAAAAAAAAAAAAAAAAAAAAAAAAAAAAAAAAAAAAAAAAAAAAAAAAAAAAAAAAAAAAAAAAAAAAAAAAAAAAAAAAAAAAAAAAAAAAAAAAAAAAAAAAAAAAAAAAAAAAAAAAAAAAAAAAAAAAAAAAAAAAAAAAAAAAAAAAAAAAAAAAAAAAAAAAAAAAAAAAAAAAAAAAAAAAAAAAAAAAAAAAAAAAAAAAAAAAAAAAAAAAAAAAAAAAAAAAAAAAAAAAAAAAAAAAAAAAAAAAAAAAAAAAAAAAAAAAAAAAAAAAAAAAAAAAAAAAAAAAAAAAAAAAAAAAAAAAAAAAAAAAAAAAAAAAAAAAAAAAAAAAAAAAAAAAAAAAAAAAAAAAAAAAAAAAAAAAAAAAAAAAAAAAAAAAAAAAAAAAAAAAAAAAAAAAAAAAAAAAAAAAAAAAAAAAAAAAAAAAAAAAAAAAAAAAAAAAAAAAAAAAAAAAAAAAAAAAAAAAAAAAAAAAAAAAAAAAAAAAAAAAAAAAAAAAAAAAAAAAAAAAAAAAAAAAAAAAAAAAExvdmVwcmVldAAABZADAAIAAAAUAAAQopAEAAIAAAAUAAAQtpKRAAIAAAADMjEAAJKSAAIAAAADMjEAAOocAAcAAAgMAAAIlgAAAAAc6gAAAAgAAAAAAAAAAAAAAAAAAAAAAAAAAAAAAAAAAAAAAAAAAAAAAAAAAAAAAAAAAAAAAAAAAAAAAAAAAAAAAAAAAAAAAAAAAAAAAAAAAAAAAAAAAAAAAAAAAAAAAAAAAAAAAAAAAAAAAAAAAAAAAAAAAAAAAAAAAAAAAAAAAAAAAAAAAAAAAAAAAAAAAAAAAAAAAAAAAAAAAAAAAAAAAAAAAAAAAAAAAAAAAAAAAAAAAAAAAAAAAAAAAAAAAAAAAAAAAAAAAAAAAAAAAAAAAAAAAAAAAAAAAAAAAAAAAAAAAAAAAAAAAAAAAAAAAAAAAAAAAAAAAAAAAAAAAAAAAAAAAAAAAAAAAAAAAAAAAAAAAAAAAAAAAAAAAAAAAAAAAAAAAAAAAAAAAAAAAAAAAAAAAAAAAAAAAAAAAAAAAAAAAAAAAAAAAAAAAAAAAAAAAAAAAAAAAAAAAAAAAAAAAAAAAAAAAAAAAAAAAAAAAAAAAAAAAAAAAAAAAAAAAAAAAAAAAAAAAAAAAAAAAAAAAAAAAAAAAAAAAAAAAAAAAAAAAAAAAAAAAAAAAAAAAAAAAAAAAAAAAAAAAAAAAAAAAAAAAAAAAAAAAAAAAAAAAAAAAAAAAAAAAAAAAAAAAAAAAAAAAAAAAAAAAAAAAAAAAAAAAAAAAAAAAAAAAAAAAAAAAAAAAAAAAAAAAAAAAAAAAAAAAAAAAAAAAAAAAAAAAAAAAAAAAAAAAAAAAAAAAAAAAAAAAAAAAAAAAAAAAAAAAAAAAAAAAAAAAAAAAAAAAAAAAAAAAAAAAAAAAAAAAAAAAAAAAAAAAAAAAAAAAAAAAAAAAAAAAAAAAAAAAAAAAAAAAAAAAAAAAAAAAAAAAAAAAAAAAAAAAAAAAAAAAAAAAAAAAAAAAAAAAAAAAAAAAAAAAAAAAAAAAAAAAAAAAAAAAAAAAAAAAAAAAAAAAAAAAAAAAAAAAAAAAAAAAAAAAAAAAAAAAAAAAAAAAAAAAAAAAAAAAAAAAAAAAAAAAAAAAAAAAAAAAAAAAAAAAAAAAAAAAAAAAAAAAAAAAAAAAAAAAAAAAAAAAAAAAAAAAAAAAAAAAAAAAAAAAAAAAAAAAAAAAAAAAAAAAAAAAAAAAAAAAAAAAAAAAAAAAAAAAAAAAAAAAAAAAAAAAAAAAAAAAAAAAAAAAAAAAAAAAAAAAAAAAAAAAAAAAAAAAAAAAAAAAAAAAAAAAAAAAAAAAAAAAAAAAAAAAAAAAAAAAAAAAAAAAAAAAAAAAAAAAAAAAAAAAAAAAAAAAAAAAAAAAAAAAAAAAAAAAAAAAAAAAAAAAAAAAAAAAAAAAAAAAAAAAAAAAAAAAAAAAAAAAAAAAAAAAAAAAAAAAAAAAAAAAAAAAAAAAAAAAAAAAAAAAAAAAAAAAAAAAAAAAAAAAAAAAAAAAAAAAAAAAAAAAAAAAAAAAAAAAAAAAAAAAAAAAAAAAAAAAAAAAAAAAAAAAAAAAAAAAAAAAAAAAAAAAAAAAAAAAAAAAAAAAAAAAAAAAAAAAAAAAAAAAAAAAAAAAAAAAAAAAAAAAAAAAAAAAAAAAAAAAAAAAAAAAAAAAAAAAAAAAAAAAAAAAAAAAAAAAAAAAAAAAAAAAAAAAAAAAAAAAAAAAAAAAAAAAAAAAAAAAAAAAAAAAAAAAAAAAAAAAAAAAAAAAAAAAAAAAAAAAAAAAAAAAAAAAAAAAAAAAAAAAAAAAAAAAAAAAAAAAAAAAAAAAAAAAAAAAAAAAAAAAAAAAAAAAAAAAAAAAAAAAAAAAAAAAAAAAAAAAAAAAAAAAAAAAAAAAAAAAAAAAAAAAAAAAAAAAAAAAAAAAAAAAAAAAAAAAAAAAAAAAAAAAAAAAAAAAAAAAAAAAAAAAAAAAAAAAAAAAAAAAAAAAAAAAAAAAAAAAAAAAAAAAAAAAAAAAAAAAAAAAAAAAAAAAAAAAAAAAAAAAAAAAAAAAAAAAAAAAAAAAAAAAAAAAAAAAAAAAAAAAAAAAAAAAAAAAAAAAAAAAAAAAAAAAAAAAAAAAAAAAAAAAAAAAAAAAAAAAAAAAAAAAAAAAAAAAAAAAAAAAAAAAAAAAAAAAAAAAAAAAAAAAAAAAAAAAAAAAAAAAAAAAAAAAAAAAAAAAAAAAAAAAAAAAAAAAAAAAAAAAAAAAAAAAAAAAAAAAAAAAAAAAAAAAAAAAAAAAAAAAAAAAAAAAAAAAAAAAAAAAAAAAAAAAAAAAAAAAAAAAAAAAAAAAAAAAAAAAAAAAAAAAAAAAAAAAAAAAAAAAAAAAAAAAAAAAAAAAAAAAAAAAAAAAAAAAAAAAAAAAAAAAAAAAAAAAAAAAAAAAAAAAAAAAAAAAAAAAAAAAAAAAAAAAAAAAAAAAAAAAAAAAAAAAAAAAAAAAAAAAAAAAAAAAAAAAAAAAAAAAAAAAAAAAAAAAAAAAAAAAAAAAAAAAAAAAAAAAAAAAAAAAAAAAAAAAAAAAAAAAAAAAAAAAAAAAAAAAAAAAAAAAAAAAAAAAAAAAAAAAAAAAAAAAAAAAAAAAAAAAAAAAAAAAAAAAAAAAAAAAAAAAAAAAAAAAAAAAAAAAAAAAAAAAAAAAAAAAAAAAAAAAAAAAAAAAAAAAAAAAAAAAAAAAAAAAAAAAAAAAAAAAAAAAAAAAAAAAAAAAAAAAAAAAAAAAAAAAAAAAAAAAAAAAAAAAAAAAAAAAAAAAAAAAAAAAAAAAAAAAAAAAAAAAAAAAAAAAAAAAAAAADIwMjE6MTE6MjUgMjI6MDA6MTcAMjAyMToxMToyNSAyMjowMDoxNwAAAEwAbwB2AGUAcAByAGUAZQB0AAAA/+ELHGh0dHA6Ly9ucy5hZG9iZS5jb20veGFwLzEuMC8APD94cGFja2V0IGJlZ2luPSfvu78nIGlkPSdXNU0wTXBDZWhpSHpyZVN6TlRjemtjOWQnPz4NCjx4OnhtcG1ldGEgeG1sbnM6eD0iYWRvYmU6bnM6bWV0YS8iPjxyZGY6UkRGIHhtbG5zOnJkZj0iaHR0cDovL3d3dy53My5vcmcvMTk5OS8wMi8yMi1yZGYtc3ludGF4LW5zIyI+PHJkZjpEZXNjcmlwdGlvbiByZGY6YWJvdXQ9InV1aWQ6ZmFmNWJkZDUtYmEzZC0xMWRhLWFkMzEtZDMzZDc1MTgyZjFiIiB4bWxuczpkYz0iaHR0cDovL3B1cmwub3JnL2RjL2VsZW1lbnRzLzEuMS8iLz48cmRmOkRlc2NyaXB0aW9uIHJkZjphYm91dD0idXVpZDpmYWY1YmRkNS1iYTNkLTExZGEtYWQzMS1kMzNkNzUxODJmMWIiIHhtbG5zOnhtcD0iaHR0cDovL25zLmFkb2JlLmNvbS94YXAvMS4wLyI+PHhtcDpDcmVhdGVEYXRlPjIwMjEtMTEtMjVUMjI6MDA6MTcuMjEwPC94bXA6Q3JlYXRlRGF0ZT48L3JkZjpEZXNjcmlwdGlvbj48cmRmOkRlc2NyaXB0aW9uIHJkZjphYm91dD0idXVpZDpmYWY1YmRkNS1iYTNkLTExZGEtYWQzMS1kMzNkNzUxODJmMWIiIHhtbG5zOmRjPSJodHRwOi8vcHVybC5vcmcvZGMvZWxlbWVudHMvMS4xLyI+PGRjOmNyZWF0b3I+PHJkZjpTZXEgeG1sbnM6cmRmPSJodHRwOi8vd3d3LnczLm9yZy8xOTk5LzAyLzIyLXJkZi1zeW50YXgtbnMjIj48cmRmOmxpPkxvdmVwcmVldDwvcmRmOmxpPjwvcmRmOlNlcT4NCgkJCTwvZGM6Y3JlYXRvcj48L3JkZjpEZXNjcmlwdGlvbj48L3JkZjpSREY+PC94OnhtcG1ldGE+DQogICAgICAgICAgICAgICAgICAgICAgICAgICAgICAgICAgICAgICAgICAgICAgICAgICAgICAgICAgICAgICAgICAgICAgICAgICAgICAgICAgICAgICAgICAgICAgICAgICAgCiAgICAgICAgICAgICAgICAgICAgICAgICAgICAgICAgICAgICAgICAgICAgICAgICAgICAgICAgICAgICAgICAgICAgICAgICAgICAgICAgICAgICAgICAgICAgICAgICAgICAKICAgICAgICAgICAgICAgICAgICAgICAgICAgICAgICAgICAgICAgICAgICAgICAgICAgICAgICAgICAgICAgICAgICAgICAgICAgICAgICAgICAgICAgICAgICAgICAgICAgIAogICAgICAgICAgICAgICAgICAgICAgICAgICAgICAgICAgICAgICAgICAgICAgICAgICAgICAgICAgICAgICAgICAgICAgICAgICAgICAgICAgICAgICAgICAgICAgICAgICAgCiAgICAgICAgICAgICAgICAgICAgICAgICAgICAgICAgICAgICAgICAgICAgICAgICAgICAgICAgICAgICAgICAgICAgICAgICAgICAgICAgICAgICAgICAgICAgICAgICAgICAKICAgICAgICAgICAgICAgICAgICAgICAgICAgICAgICAgICAgICAgICAgICAgICAgICAgICAgICAgICAgICAgICAgICAgICAgICAgICAgICAgICAgICAgICAgICAgICAgICAgIAogICAgICAgICAgICAgICAgICAgICAgICAgICAgICAgICAgICAgICAgICAgICAgICAgICAgICAgICAgICAgICAgICAgICAgICAgICAgICAgICAgICAgICAgICAgICAgICAgICAgCiAgICAgICAgICAgICAgICAgICAgICAgICAgICAgICAgICAgICAgICAgICAgICAgICAgICAgICAgICAgICAgICAgICAgICAgICAgICAgICAgICAgICAgICAgICAgICAgICAgICAKICAgICAgICAgICAgICAgICAgICAgICAgICAgICAgICAgICAgICAgICAgICAgICAgICAgICAgICAgICAgICAgICAgICAgICAgICAgICAgICAgICAgICAgICAgICAgICAgICAgIAogICAgICAgICAgICAgICAgICAgICAgICAgICAgICAgICAgICAgICAgICAgICAgICAgICAgICAgICAgICAgICAgICAgICAgICAgICAgICAgICAgICAgICAgICAgICAgICAgICAgCiAgICAgICAgICAgICAgICAgICAgICAgICAgICAgICAgICAgICAgICAgICAgICAgICAgICAgICAgICAgICAgICAgICAgICAgICAgICAgICAgICAgICAgICAgICAgICAgICAgICAKICAgICAgICAgICAgICAgICAgICAgICAgICAgICAgICAgICAgICAgICAgICAgICAgICAgICAgICAgICAgICAgICAgICAgICAgICAgICAgICAgICAgICAgICAgICAgICAgICAgIAogICAgICAgICAgICAgICAgICAgICAgICAgICAgICAgICAgICAgICAgICAgICAgICAgICAgICAgICAgICAgICAgICAgICAgICAgICAgICAgICAgICAgICAgICAgICAgICAgICAgCiAgICAgICAgICAgICAgICAgICAgICAgICAgICAgICAgICAgICAgICAgICAgICAgICAgICAgICAgICAgICAgICAgICAgICAgICAgICAgICAgICAgICAgICAgICAgICAgICAgICAKICAgICAgICAgICAgICAgICAgICAgICAgICAgICAgICAgICAgICAgICAgICAgICAgICAgICAgICAgICAgICAgICAgICAgICAgICAgICAgICAgICAgICAgICAgICAgICAgICAgIAogICAgICAgICAgICAgICAgICAgICAgICAgICAgICAgICAgICAgICAgICAgICAgICAgICAgICAgICAgICAgICAgICAgICAgICAgICAgICAgICAgICAgICAgICAgICAgICAgICAgCiAgICAgICAgICAgICAgICAgICAgICAgICAgICAgICAgICAgICAgICAgICAgICAgICAgICAgICAgICAgICAgICAgICAgICAgICAgICAgICAgICAgICAgICAgICAgICAgICAgICAKICAgICAgICAgICAgICAgICAgICAgICAgICAgICAgICAgICAgICAgICAgICAgICAgICAgICAgICAgICAgICAgICAgICAgICAgICAgICAgICAgICAgICAgICAgICAgICAgICAgIAogICAgICAgICAgICAgICAgICAgICAgICAgICAgICAgICAgICAgICAgICAgICAgICAgICAgICAgICAgICAgICAgICAgICAgICAgICAgICAgICAgICAgICAgICAgICAgICAgICAgCiAgICAgICAgICAgICAgICAgICAgICAgICAgICAgICAgICAgICAgICAgICAgICAgICAgICAgICAgICAgICAgICAgICAgICAgICAgICAgICAgICAgICAgICAgICAgICAgICAgICAKICAgICAgICAgICAgICAgICAgICAgICAgICAgIDw/eHBhY2tldCBlbmQ9J3cnPz7/2wBDAAcFBQYFBAcGBQYIBwcIChELCgkJChUPEAwRGBUaGRgVGBcbHichGx0lHRcYIi4iJSgpKywrGiAvMy8qMicqKyr/2wBDAQcICAoJChQLCxQqHBgcKioqKioqKioqKioqKioqKioqKioqKioqKioqKioqKioqKioqKioqKioqKioqKioqKir/wAARCACKAf8DASIAAhEBAxEB/8QAHwAAAQUBAQEBAQEAAAAAAAAAAAECAwQFBgcICQoL/8QAtRAAAgEDAwIEAwUFBAQAAAF9AQIDAAQRBRIhMUEGE1FhByJxFDKBkaEII0KxwRVS0fAkM2JyggkKFhcYGRolJicoKSo0NTY3ODk6Q0RFRkdISUpTVFVWV1hZWmNkZWZnaGlqc3R1dnd4eXqDhIWGh4iJipKTlJWWl5iZmqKjpKWmp6ipqrKztLW2t7i5usLDxMXGx8jJytLT1NXW19jZ2uHi4+Tl5ufo6erx8vP09fb3+Pn6/8QAHwEAAwEBAQEBAQEBAQAAAAAAAAECAwQFBgcICQoL/8QAtREAAgECBAQDBAcFBAQAAQJ3AAECAxEEBSExBhJBUQdhcRMiMoEIFEKRobHBCSMzUvAVYnLRChYkNOEl8RcYGRomJygpKjU2Nzg5OkNERUZHSElKU1RVVldYWVpjZGVmZ2hpanN0dXZ3eHl6goOEhYaHiImKkpOUlZaXmJmaoqOkpaanqKmqsrO0tba3uLm6wsPExcbHyMnK0tPU1dbX2Nna4uPk5ebn6Onq8vP09fb3+Pn6/9oADAMBAAIRAxEAPwD6RooooAKKKKACiiigAooooAKKKKACiiigAooooAKKKKACiiigAooooAKKKKACiiigAooooAKKKKACiiigAooooAKKKKACiiigAooooAKKKKACiiigAooooAKKKKACiiigAooooAKKKKACiiigAooooAKKKKACiiigAooooAKKKKACiiigAooooAKKKKACiiigAooooAKKKKACiiigAooooAKKK4X4yJKvws1q4iuriFo4UwsUmwHMig5I5PBIxnHtQB3VFFFABWHP4ntrTxNcaZeNb21vb2sM8l3NcBAHlkZI48EAZOxsfNnpxzW5XDwaHrtv44uNekia5t7q7eI2TPGFhiWNFinB7kMr8dQJjgZByAdpJcQwyQpLNGjzvsiVmAMjbS2F9TtVjgdgT2rNuNdFv4qstEa0l3XkE06XBZdmI/LyMZzn94PT8ayfEnhvVdS8QaNd2WualBBFfGR44Utdtqv2WZN674ixJZguGLf6w8DAKyXenaiPHPh+6WC4vLaxsbq3uL12iBZ5DBtYqCvXy2J2qB6CgDqKKKKACiiigAooooAKKKKACiiigAooooAKKKKACiiigAooooAKKKKACiiigAooooAKKKKACiiigAooooAKKKKACiiigAooooAKKKKACiiigAooooAKKKKACiiuPm1/VLn4oyaDps0f2W205Z51aHIR3fAJbOThVOF4zuHUA0AdhVe6vYrWSGJtzzTttjjQZZu5PsAOST/MgHzSLxX4luvAFxqNrff6TPq7WemStbIWnVrny48gDaVChiSACe2MZPS6NdHUfin4l8xiRpVtaWkK9l8xTK5+pyg/4AKANnV/EFvo+oaVZzwXEsmqXP2aEwhSFbaWJbLA4AU9M1q15v4l16yg+L2nC8Of7HsSYFzgG5u5BEmT0UBVOWPTfxycHu9KtLy0tdupahJfTsxZmdEVUyfuqFUcDpzk8daALtFcb4y8VLZ6XNDBbavHNHd26maKxm2keegbDhcEEZHB5zjvXRaZrEWqtIIbW+g8sDP2u0khzn03AZ6dqAK+reKdL0W+sbK8mY3F9dJaRRxIWxI3IDHovHPPUdM1fnvora8gt58x/aDtikONrPydn1wCffBrkfiV/wAfHgz/ALGe1/8ARctavxAVh8PdanibZNZ2j3kL90kiHmIR7hkFAHRUVnW+o3F74ct9R0+3jnmuLeOaOJ5DGrbgD97BxwfSqP8AaPij/oXrH/wan/4zQBv1xXxcinvfhnrGn2NpdXd3cRIIora2klLHzFOPlU46HrXY27TPbRtcxrFMygyRo+8K2OQGwM/XArD/AOE00v8A59dc/wDBBff/ABmgDatblLuASxLKqntLE0bfkwBqasex8T2Go3sdrb2+qpJJnDXGkXUCDAJ5d4wo6dzz06mtigArxz4y6X4g0S6t/Fmh6rrDaXHIo1PTrbUJokVf76hWG0HocdCQcda9jpk0MdzBJDPGskUilHRhkMDwQRQBw+geHND8S6Fa6vpPiHxJLa3KblP9u3OVPdT8/BByCPUVr+FvDl54cv8AU45dW1HU7K4Mcls2oXTTvEcMHQFjnHQ/j3xXA+FtK1b4a/FpvDWlxSX3hvWle6iQHJsiOrH0A4X3BXqRXsVABRRRQAUVi+J4b6TT0ex1qbR1jbdJJBbxzSSk8KgWRSOSewyTgd6l8O2eqWWjqmu6lJqN4zl2kkjjQoD0TEaqDgd8cnPbFAGrRRRQAUUUUAFFFFABRRRQAUUUUAFFFFABRRRQAUUUUAFFFFABWQPEdo+r/wBn28NzcMtybWWaGLdHBKIxJtcjkfKRzjGTjOa1mBKkAlSR1HavOPBl9/Y9h4+1e7uJ5YdP1u9mkjwvziOGMk/dznA7YHtQB6RRXF6jq2uW/wAN/wDhKYLoC7hsxqMlkY1MLJt3tFnbv+7kBs5yM9OKoXniDxHrnjC20Xw7qVnptrf6D/acVzJZmWSHMiKOC2GODxkADJznAoA9DrKtPEFveeJtQ0OKC4Fxp8MU00rBfLxJu2gENnPyk4IFaUKyJbxpNJ5siqA8m3buOOTjtn0rzDwfqw1vVdfGlX32XVNZ1Ca4+0hVYxWkDCBNoYEM3y9OQu/J7BgD1Ko1uIWuGgWVDMihmjDDcoPQkdQKWJGjiVHkaVlGC7gZb3OAB+QrC8UW/hwiG51947e5XK21xG5S5B67Y2T5z0+6uc+hoA6CiuY8LTeIJLudb9Zn0hU/0afUEWO8ds/xKnG3Hdgreo710sriOF3ZggVSSzdB70AOoryyLxl4i1D4Xrr0F2lvdXl6sNi/2dcSeZcCOMFWH3Qp5/iJB5AHPpl5eQ2FnJc3O8RRjLeXG0jdccKoJP4CgCemu6RRtJIyoigszMcAAdSTWF/wmui/3r7/AMFlz/8AG63IJkubeOeLdskQOu5CpwRkZBwQfY80AZmk+JtN1vVNSsNOeSSXTGjS4LRlVy4JGCevAznpyME1rVxHhP8A5Kp4/wD+u1h/6Siu3oAKKKKACiiigAooooAK5y28Ky2jeJbmHUcahrkhZbkwZ+zKIwka7d3zBcE9RnPaujooA5RvA0K2PhmztL1re38PtuVBGD5x8pow3X5WG4sDzyalt7FtG+IF9eH/AI9Nbt4V3kfcuIQV2k/7SMMe6HuRnpqbJGkqFJUV1PVWGQaAOVuPAkF/D4nTUb15m8QOh8xE2tbKiBYwvJyVYFgeOT0rodMtrm0sIor+8N7cKoEk/lhAxAAyFycdM9TyTVuigChrWmf2xphs/N8nM0Mu/bu/1cqvjGR124/Gr9FFAHN+KfDN74iutJkh1KC0j0vUI79Ee0aQuyKwCkiRePmPb0p/i+C41DwrcaJGwe81aNrQNGuAqP8ALJIQScKqknr1wOpAroab5aeYZNq7yNpbHOPTNAFZ9KsptJXTJ7dJrNY1j8qQZBVcYBH4Csv/AIQXwv8A9AGx/wC/IrfooAjt7eK0to7e2jWKGJQkaIMBVAwAKkorivEeo6jP8StA0TSbqeEC2nvLsIRsCcIhcdSMliBnGVXjrQB2tFcl4Jlu7rU/E1zLe3FxZDUzb2iTS7woiRVkK+gMm/joMcAV04u4jfNaAt5yxiUjY2NpJA+bGM5B4zmgCasjxHr8eg2KMsRur66fybKzQ4a4lIyFHoO5boACa168x1v4b6D8U9UudV1TUteQWlxJZRwrNAsSGNtr+WAjcFgcknORz0FAHZeHNAfS1nvtTmF3rN8Q13cgcDH3YkH8Ma5wB9SeSav3Gq29vq1nppZWurreyxhhuVFXJcj0ztX6sK8s/wCGavB3/QS1z/v/AA//ABqrXgPwX4W8CeOF/ssa2Z9Qt5Le1ur/AMswT7SHdYyoB3YTPzAAgEgkUAerUUUUAYGu6RrN3qtjqGk6nFGtk277DPADHPnhsvyVbGQGA4yeDmql1dXlx4j0Gx1L7JHK1zc3gh2bmEMalE5yQHBlTJGc84rqqia1ge6S5eCNriNSiSlAWVTjIB6gHAyPYUAS0UUUAFFFFABRRRQAUUUUAFFFFABRRRQAUUUUAFFFFABRRRQAjZ2naQGxwSM4rmfDnhKbRv7djv76C/ttZvZryWIWpi2mRVUrne2RhR2rp6KAOYg8HPF4VbwzJqTSaP5f2ZVMREwt+nlGQNg/L8udoO335p48Kzx+PofEUF9BHBDpv9nLZi1PCeYHzv39flAHy10lFAEN5DLcWNxDbzeRLJEyJLt3bGIwGxkZwecZrl7bwFHp+n+Go9Lv2trrQIzCtx5Ibz42TbIrLn+I4bqcEDrXXUUANjTy41TczbQBuY5J9zWJqGh30utnU9Lu7CzmaFYmkl07zpSAScb96nHJ4+tbtFAGZptrrMFwzapqlteQlMKkVkYSGyOc+Y3GM8Y707xBpk2teHNQ0y2vDZSXlu8AuAm8x7hgkDI5wfUVo0UAc7qXhGK70TRdMsbgWUOkXNvPEBFuVhCPlUjI74OfUCugiTyoUj3M+1Qu5zknHcn1p1FABSPuKNsIDY4JGQD9KWigDmtF8MX+leKtb1mXU7e4GsSQvJCtmyGPy49gAbzD2Hp1rpaKKACiiigAooooAKKKKACiiigAooooAKKKKACiiigAooooAKKKKACsy20G1tfEl9ritK93ewxQNvIKxpHuwFGMjJYk5J5rTooAyfD/AIcs/Ddi1rYvNIrSySbp3DMC7s5GQBxuY+/vXP2ljrFzP4rvbBru21C6vEitWnfyVjhi2r8jSRSrhv3jZEbA7wODyO2ooA5DR4PFumS3V3r9097bRWzskMd3HOzOMEAIlnCxPBH3j1+6eooeAdHvdNmSDxHp6y6jFAs1vepb4SMTDfMm49H87eW7sGXjA476igDi9O0/xUnxAv57nUdNaFrGyWWRNJlRZVEtySiE3B2uATknd99flGPmmbWF1XxL5cVnqMN1bGWGxe40m48hJCpDTO5CqVwMABxkE4OWAHXUUAY9lbeJY7yNtS1bSri2Gd8cGlyRO3HGHNwwHOP4T/WuOXSL+51qPUryyvZRfeI/MSN1b/Q4IEYI+D90O8SnnAxJjuc+k0UAFFFFABRRRQAUUUUAFFFFABRRRQAUUUUAFFFFABRRRQAUUUUAFFFFABRRRQAUUUUAFFFFABRRRQAUUUUAFFFFABRRRQAUUUUAFFFFABRRRQAUUUUAFFFFABRRRQAUUUUAFFFFABRRRQAUUUUAFFFFABRRRQAUUUUAFFFFABRRRQBn61rmn+H9Mmv9Um8qGGNpWCqXYqoySFHJx39O9WNPvYtS0y1vrcMIbqFJowwwdrAEZ98Gsfx9/wAk28S/9gm6/wDRLVZ8I/8AIk6H/wBg63/9FrQBr0VUvtQSyktYthlmuphFFGp68ZZj6AKCfyHUirdABRRRQAUUUUAFFFFABRRRQAUUUUAFFFB6cdaACiqml6gup2KzqhicM0csTHJikU4ZT9CDz3GD0NW6ACiiigAooooAKKKKACiiigAooooAKKKKACiiigAooooAKKKKACiiigAooooAKKKKACiiigAooooAKKKKACiiigAooooAKKpayu/SJ18q8lyB8ljJ5cx5H3W3Lj8xxmuP+zf9Qrxt/wCDP/7ooA72oXvbWOSSOS5hR4k8yRWkAKJ/eI7D3punjbptsNk8eIl+W5ffKvHRzk5b1OTz3rzaxuo11bxz43ulT7BZMbe1ULxK1spy3v8AvCwHqeewNAHoh1nTFs4bttRtBbTsEimM67JGJwArZwTnjAqtcaoZvEiaJZvtljgF1dSAA7IyxVFHuxDfQK3cg15zL4fi0jwH4T8O6qym71S8ha8JGQqRk3UygdhlecdS2fauq8NeYfih41MuORYeVnr5fkt+m7f+vvQBZ17Vr+Px74b0fTrloorgXFzfqEQgwRoAASRkZd0GQR0NbIvotWsJX0HUbaaRGKrJG6yoHU8q2M8ZGD3H1rzXXtVvo/GfiTxFbAHTdIFppV26MRKsJbzLgoR0x5iknrhTjHBHqVibMWqxad5X2eIBFEONq8A4GOOhoAg0TV4dc0iG+t1KbyySRk5MUisVdD7hgR+FX64/4eebt8T78eV/wkV55O3ptyu7/wAf35989810Wp2+p3Cx/wBk6hBZFSd5mtTNu9MfOuP1oAms763v45HtX3rFM8LnaRh0Yqw59CDViuI8H2XiAQXbNrVoYV1a68yP+zjl8Ttuw3mcZ57HHvXb0AZPibSLjXvDl/pNtdx2gvraS2kleAylVdSpIAZecE1LoOnXGk6Jaafc3MVz9lgSFZI4THkKoXOCzenrVD7H4x/6Duh/+CWb/wCSqkt7TxUtzE11rOjyQBwZEj0iVGZc8gMbkgHHfBx6GgCja3TX/wAV9QhYgxaVpcKoMdHnkcsfyiT9a2NT8R6HokqRazrOn6fJIu5Eu7pIiw9QGIyKwvDxA+J/jFSRuKWDAd9vlOP5g1c1JdK1vXptGX7LJdpCj3rEqZUhJO1B3G7nkdASRgkGgDetbq3vrWO5sp4ri3lUNHLE4dHB7gjgipaxNQ1+20XWbDTJEt4baS1muJZ5JhGttFFsGSMYxl1HJGPwrVe8to7ZLh7iJYZGRUkLgKxdgqAHodxYAepIoAmorJ1bXRpOpaVaPaSyjUrr7MswZQsbeW7885PEZ6D8a1qACis3Uo9cedDo9zp8MW35hdW7yMWz2KuvGMVFYxeI1vEOpXelyW3O9be1kRzxxgmQgc47GgDXqnqes6Zotus+s6jaafC7bFku51iVmxnALEZOAeParlYev3enfbbLTZjZtqd3uFpHclTtAxvcKeuBjgcknHAyQAaOm6tp2s2pudIv7W/gDFDLazLKoYckZUkZ5HHvVusHUbmLwfoFsmmWQuC93DbRw+ZsLtLKFZyQp5G4ueOx6Vr2l7a38JmsLmG5iDFC8MgdQw4IyO4oAnopk00dvC0s8iRRoMs7sAqj1JPSo7e9tbt5ltLmGdreTyphFIGMb4B2tjocEHB9RQBzmk3LWvxO1/S8jyri0ttQRfRzvic/iIk/X1rqq5BTu+Nj7WHy+Hl3ge9wcfyauvoAKKKKACuPg8RT654x1PS9L1W3tU0qa142LILoOpeVOefukAFTweueldhXn2j/AGsePPiUdOA+14s/s+7p5n2Mbf1xQB27anYJcCB723WYtsEZlUMW9MZzn2qWe6t7VN91PHCuCd0jhRgAk9fQAn6CvPbFrPUv2eis29nXSWScc+at2qndnv5nnDPruqlqmjJqPjb4cxeJbOGe7uNMul1BHXKyusERKsP4gGLcHNAHqFvcwXltHcWk0c8Ei7kliYMrj1BHBFcpY+IZn8eeJVvNRWDQ9Ht7eNjOI0jSdwZHbzMA4CFAcnAzXUQwWunWKw20UVra26YSONQiRqB0AHAAryjwjqE6XOm3uuCP+yfFeoXd1GxJBM2QYBJkfdMcZCr0yBnJwAAetQTxXMCTW0qTROMpJGwZWHqCOtZ2r6zPpEsbtpV3d2RUmW4tAJHhPvEPmYe6hj7d6045FljWSM7kYZUjuKyda1TULWeK10uzgklkXcbi7uBFDEM45AyzHqcAY9SKALmmavp+s2xuNLvIbqNWKsY2yUYdVYdVI9DzVyua0fw/bpr39t6hqUeoay0JhLwKsMaocEgIpJI443sxHYiuillSCF5ZWCRxqWZj2A5JoAry6tp1vDcSz39rFHbNtnd5lAiPXDEn5TyOtWkdZEV0YMrDIYHII9a8Ygtmb4Q6lqlyscN34svXjtFCACNbuURqcdM+WQc/3VA9c+uQQKmiR2+kSLAqwCO2do9yoAuFO3jI6ccUASNfW66klgX/ANJkhaZU2nlFKqTnp1YVNIXETmFVaQKdqs20E9gTg4Hvg1w81h4k/wCE/s1OvWXm/wBmTkP/AGYcAebFkY836c57V2dnHcxWcaX06XE4HzyxxeWrc9lycfnQByfhTX9a1H4geLdJ1mS3MOliz+zxW6YVPNR3b5jyx+6MnA44AzXZ1wPhIgfGf4hAnkrphA9f3DV31ABRRRQAUUUUAFFFFABRRRQAUUUUAFFFFABRRRQAUUUUAFFFFABVQaRpq6e1iun2os3Yu1uIV8tmLbiSuMZLc/XmrdFAEM9na3MsMtzbQzSW7b4XkjDGNsYypPQ+4rPudLaLxBHrVigMzQi2uo+B50YbKnP95CWx6hmHpjWooArpp9lHDcRR2cCR3TM86LEoWVm4YsMfMT3J60yWJrLThBpFtChUBIYwAkcfuQMcD0FW6KAKGi6TDoekQ2FuS4j3M8jAbpXZizucd2Ykn61foooAZDBFbqywRJErOzsEUAFmOSeO5JJJp9FFAEctxDA0azTRxtK2yMOwBdvQepplvfWl3NNFa3UM8lu22ZI5AxjPowHQ8d64nxHbv4g+LOhaZDgQ6Tay395IvDDzMxxqCOhP7z6Dng4qx4IMEvirxbdoEV5NQFpEqDGIreJExgdAHd/1oAvpaHT/AIoTXZIEOr6akY4/5awOxxn1KS8f7hrQvfDOk3t0t21pHDeLuAuoFCSYb7wJH3ge4OR3681evLGG9EPnbg0EqzROpwyMPQ+4JB9QSO9WKAOCvvC+qQ+J4dQ0yBm07TI7Wzt9NDptuIF3eYcsc5UtGQCRkw98g1p+MtA1TWrK2Nhql9bMt3ZM9pbi3MYCXMbvJmSMtuVQWAzg7B8pyQeqooA5PXNK1PzvDKQi81g6fqn2q5upWgR9nkzJyBsBIMij5V6D1rrKKKACiiigArP1LQNL1fB1CxhmkVlZJtuJEZeVKuPmUjsQa0KKAOJ8TeEr+9SxstBlltFilutQe83rzdFCqBh1wzSsTtAxt6g4rXTStR1CztZU1LUPDu2FUNhZrauiEe7xPz24bGAPet+igDlvEnh+/wBT8N2mifa7m/E17Ebu9m8pJEhV/MY/IEGTtCAquRuB7E1a8L6XPps2sPcWa2our9pI9rg7o1RY48AdBsjTjr14HffoPI9KAOY0a0a5+IGv6yeYkit9OhOOvlhpHIPcbpQPqprp6r2FlDp1lHbW4OxMkljlnYnLMT3JJJJ9SasUAFFFFABVC20LSLK+kvbPS7K3upf9ZPFbosj8Y5YDJ44q/RQBWGmWAumuRZW/nswZpfKXcSOhzjOajudF0q8vor270yznu4c+VcS26tJHng7WIyPwq7RQA2SNJY2jlRXRwVZWGQwPUEVWbStOawhsWsLU2kG3yrcwr5ce37u1cYGO2OlW6KACqN9omlapIsmp6ZZ3joNqtcW6yFR6AkGr1FAGfZ+H9G064E+n6TY2swBAkgtkRgD1GQM1elijnheKdFkjkUq6OMqwPBBB6inUUAVZNMsJbKKzlsrd7WHb5UDRKUj2/dwuMDGOMdKtUUUAMMERuFuDEhmVCiybRuCkgkZ64JA49hTnRZI2SRQ6MCGVhkEehFLRQBk2/hXw9aXv2y00HTILnIbz47ONXyOh3AZrWoooAKKKKACiiigAooooAKKKKACiiigAooooAKKKKACiiigAooooAKKKKACiiigAooooAKKKKACiiigCFLO1jvJbuO2hS5mVUlmWMB3Vc7QW6kDJxnpk0W9la2jzPa20MDTuZJTHGFMjHqzY6n3NTUUAFFFFABRRRQAUUUUAFFFFABRRRQAUUUUAFFFFABRRRQAUUUUAFFFFABRRRQAUUUUAFFFFABRRRQAUUUUAFFFFABRRRQAUUUUAf//Z)\n"
   ]
  },
  {
   "cell_type": "code",
   "execution_count": null,
   "id": "vBuH8y_s8Hum",
   "metadata": {
    "id": "vBuH8y_s8Hum"
   },
   "outputs": [],
   "source": [
    "               \n",
    "gray = cv2.cvtColor(img1, cv2.COLOR_BGR2GRAY)\n",
    "w,h=gray.shape\n",
    "n=50\n",
    "b=0.965            #hyperparameter\n",
    "gray = cv2.cvtColor(img1, cv2.COLOR_BGR2GRAY)         # converting to grayscale \n",
    "m=[]\n",
    "lst=[]\n",
    "m.append(gray[0,0]/n)        #initialize m\n",
    "c=0\n",
    "for i in range(0,w):\n",
    "    for j in range(0,h):      #traversing each pixel\n",
    "        if(j-n>0):\n",
    "            m.append(sum(gray[i,j-n:j])/n)         #moving average\n",
    "        else:\n",
    "            prev=m[-1]\n",
    "            m.append(prev+(1/n)*(gray[i,j]))        #moving average for boundry neighbour pixel \n",
    "        if(j==h-1):\n",
    "            m.pop(0)\n",
    "            lst.append(m)       #appending current average\n",
    "            m=[]             #empty list for next iteration\n",
    "            if(i+1<w):\n",
    "                m.append(gray[i+1,0]/n)  \n",
    "arr_moving_avg=np.array(lst)\n"
   ]
  },
  {
   "cell_type": "markdown",
   "id": "trhhIn693tEn",
   "metadata": {
    "id": "trhhIn693tEn"
   },
   "source": [
    "g(x,y)=1   if f(x,y)>b*m(x,y)\n",
    "\n",
    "> \n",
    "\n",
    "\n",
    "\n",
    "\n",
    "g(x,y)=0   if f(x,y)<b*m(x,y)"
   ]
  },
  {
   "cell_type": "code",
   "execution_count": null,
   "id": "9YcF3DDJ8LFJ",
   "metadata": {
    "colab": {
     "base_uri": "https://localhost:8080/",
     "height": 1000
    },
    "id": "9YcF3DDJ8LFJ",
    "outputId": "b2bfe33f-3b21-4ae8-a29a-7c3affd448ec"
   },
   "outputs": [],
   "source": [
    "import PIL\n",
    "a,b=gray.shape\n",
    "im3 = PIL.Image.new(mode=\"RGB\", size=(b,a))        #dummy image\n",
    "b=0.965\n",
    "for i in range(w):\n",
    "    for j in range(h):\n",
    "        if(gray[i,j]>b*arr_moving_avg[i,j]):           #binarizing image based on moving average values\n",
    "            im3.putpixel((j,i),(254,254,254))           #white\n",
    "        else:\n",
    "            im3.putpixel((j,i),(0,0,0))              #black\n",
    "im3"
   ]
  },
  {
   "cell_type": "code",
   "execution_count": null,
   "id": "qHZWn_4RVNGq",
   "metadata": {
    "id": "qHZWn_4RVNGq"
   },
   "outputs": [],
   "source": [
    "from PIL import Image\n",
    "im1=im3.save(\"test pics/f3.jpg\")"
   ]
  },
  {
   "cell_type": "markdown",
   "id": "78bc53dc",
   "metadata": {
    "id": "78bc53dc"
   },
   "source": [
    "# Compression to given size"
   ]
  },
  {
   "cell_type": "markdown",
   "id": "22b201a9",
   "metadata": {
    "id": "22b201a9"
   },
   "source": [
    "We can easily resize an image to given no. of pixels by interpolating the pixels.\n",
    "But there is absolutely no way to estimate the size of the resized image after compression standards (such .jped or .png) applied over it.\n",
    "This is because the compression factor depends upon what is exactly stored in the image.\n",
    "\n",
    "So, the below technique uses iterative method to downscale the image upto the maximum size provided with some permissible error in size."
   ]
  },
  {
   "cell_type": "code",
   "execution_count": null,
   "id": "95879237",
   "metadata": {
    "id": "95879237"
   },
   "outputs": [],
   "source": [
    "#reduce image size below the maximum size of the file provided\n",
    "def resize_image(path, max_file_size: int = 2 ** 20):\n",
    "\n",
    "    image = cv2.imread(path)\n",
    "    height, width = image.shape[:2]\n",
    "\n",
    "    org_mem = os.stat(path).st_size\n",
    "    org_bytes = org_mem / np.product(image.shape[:2])\n",
    "\n",
    "    new_bytes = org_bytes * (max_file_size / org_mem)\n",
    "    new_ratio = np.sqrt(new_bytes / org_bytes)\n",
    "    new_width, new_height = int(new_ratio * width), int(new_ratio * height)\n",
    "\n",
    "    new_image = cv2.resize(image, (new_width, new_height), interpolation=cv2.INTER_LINEAR_EXACT)\n",
    "    return new_image"
   ]
  },
  {
   "cell_type": "code",
   "execution_count": null,
   "id": "z_xqNeYEaXNS",
   "metadata": {
    "id": "z_xqNeYEaXNS"
   },
   "outputs": [],
   "source": []
  },
  {
   "cell_type": "code",
   "execution_count": null,
   "id": "4a65502d",
   "metadata": {
    "id": "4a65502d"
   },
   "outputs": [],
   "source": [
    "import os\n",
    "\n",
    "#output image\n",
    "image_location = \"test pics/TEST1.jpeg\"\n",
    "\n",
    "delta = 0.01 #permissible error allowed in final image size\n",
    "max_file_size = 500000 #given size of final image\n",
    "max_deviation_percentage = delta\n",
    "\n",
    "current_memory = new_memory = os.stat(image_location).st_size\n",
    "ratio = 1\n",
    "\n",
    "\n",
    "#compare new and old memory sizes untill the error reaches within delta limit\n",
    "while abs(1 - max_file_size / new_memory) > max_deviation_percentage:\n",
    "    #resize image\n",
    "    new_image = resize_image(image_location, max_file_size=max_file_size * ratio)\n",
    "    cv2.imwrite(f\"{image_location}\", new_image)\n",
    "    \n",
    "    new_memory = os.stat(f\"{image_location}\").st_size\n",
    "    ratio *= max_file_size / new_memory"
   ]
  },
  {
   "cell_type": "code",
   "execution_count": null,
   "id": "acb56d8a",
   "metadata": {
    "id": "acb56d8a"
   },
   "outputs": [],
   "source": [
    "plt.imshow(new_image, cmap = 'gray')"
   ]
  },
  {
   "cell_type": "markdown",
   "id": "84799607",
   "metadata": {
    "id": "84799607"
   },
   "source": [
    "# Save the converted images as pdf"
   ]
  },
  {
   "cell_type": "code",
   "execution_count": null,
   "id": "f93990c4",
   "metadata": {
    "id": "f93990c4"
   },
   "outputs": [],
   "source": [
    "# Images from this folder are converted to pdf\n",
    "img_list = [x for x in os.listdir('New folder')] \n",
    "# add new pages with the image \n",
    "\n",
    "for img in img_list:\n",
    "    temp = cv2.imread(img)\n",
    "    (w,h,c) = temp.shape\n",
    "    ratio = w/h\n",
    "    temp = cv2.resize(temp, (500, int(w/ratio)), interpolation=cv2.INTER_LINEAR_EXACT)\n",
    "    cv2.imwrite(img, temp)\n",
    "    print(ratio)\n"
   ]
  },
  {
   "cell_type": "code",
   "execution_count": null,
   "id": "b2e2c604",
   "metadata": {
    "id": "b2e2c604"
   },
   "outputs": [],
   "source": [
    "from fpdf import FPDF\n",
    "import os\n",
    "\n",
    "pdf = FPDF()\n",
    "pdf.set_auto_page_break(0)\n",
    "\n",
    "img_list = [x for x in os.listdir('New folder')] \n",
    "# add new pages with the image \n",
    "for img in img_list:\n",
    "    pdf.add_page()\n",
    "    pdf.image(img)\n",
    "# save the output file\n",
    "pdf.output(\"Images1.pdf\")\n"
   ]
  },
  {
   "cell_type": "markdown",
   "id": "93XzoAJ54p38",
   "metadata": {
    "id": "93XzoAJ54p38"
   },
   "source": [
    "## motion deblurring using wiener filtring"
   ]
  },
  {
   "cell_type": "code",
   "execution_count": null,
   "id": "yNetQYZzbO5a",
   "metadata": {
    "colab": {
     "base_uri": "https://localhost:8080/",
     "height": 235
    },
    "id": "yNetQYZzbO5a",
    "outputId": "e357f3d4-3852-499a-c038-c6bdb4f06fda"
   },
   "outputs": [],
   "source": [
    "n= cv2.imread(\"test pics/motion_blur1.jpeg\",0)         #loading image\n",
    "Image.fromarray(n)"
   ]
  },
  {
   "cell_type": "markdown",
   "id": "q7Lux3ll43uy",
   "metadata": {
    "id": "q7Lux3ll43uy"
   },
   "source": [
    "Implementing degradation function![Capture1.JPG](data:image/jpeg;base64,/9j/4AAQSkZJRgABAQEAYABgAAD/4RDoRXhpZgAATU0AKgAAAAgABAE7AAIAAAAKAAAISodpAAQAAAABAAAIVJydAAEAAAAUAAAQzOocAAcAAAgMAAAAPgAAAAAc6gAAAAgAAAAAAAAAAAAAAAAAAAAAAAAAAAAAAAAAAAAAAAAAAAAAAAAAAAAAAAAAAAAAAAAAAAAAAAAAAAAAAAAAAAAAAAAAAAAAAAAAAAAAAAAAAAAAAAAAAAAAAAAAAAAAAAAAAAAAAAAAAAAAAAAAAAAAAAAAAAAAAAAAAAAAAAAAAAAAAAAAAAAAAAAAAAAAAAAAAAAAAAAAAAAAAAAAAAAAAAAAAAAAAAAAAAAAAAAAAAAAAAAAAAAAAAAAAAAAAAAAAAAAAAAAAAAAAAAAAAAAAAAAAAAAAAAAAAAAAAAAAAAAAAAAAAAAAAAAAAAAAAAAAAAAAAAAAAAAAAAAAAAAAAAAAAAAAAAAAAAAAAAAAAAAAAAAAAAAAAAAAAAAAAAAAAAAAAAAAAAAAAAAAAAAAAAAAAAAAAAAAAAAAAAAAAAAAAAAAAAAAAAAAAAAAAAAAAAAAAAAAAAAAAAAAAAAAAAAAAAAAAAAAAAAAAAAAAAAAAAAAAAAAAAAAAAAAAAAAAAAAAAAAAAAAAAAAAAAAAAAAAAAAAAAAAAAAAAAAAAAAAAAAAAAAAAAAAAAAAAAAAAAAAAAAAAAAAAAAAAAAAAAAAAAAAAAAAAAAAAAAAAAAAAAAAAAAAAAAAAAAAAAAAAAAAAAAAAAAAAAAAAAAAAAAAAAAAAAAAAAAAAAAAAAAAAAAAAAAAAAAAAAAAAAAAAAAAAAAAAAAAAAAAAAAAAAAAAAAAAAAAAAAAAAAAAAAAAAAAAAAAAAAAAAAAAAAAAAAAAAAAAAAAAAAAAAAAAAAAAAAAAAAAAAAAAAAAAAAAAAAAAAAAAAAAAAAAAAAAAAAAAAAAAAAAAAAAAAAAAAAAAAAAAAAAAAAAAAAAAAAAAAAAAAAAAAAAAAAAAAAAAAAAAAAAAAAAAAAAAAAAAAAAAAAAAAAAAAAAAAAAAAAAAAAAAAAAAAAAAAAAAAAAAAAAAAAAAAAAAAAAAAAAAAAAAAAAAAAAAAAAAAAAAAAAAAAAAAAAAAAAAAAAAAAAAAAAAAAAAAAAAAAAAAAAAAAAAAAAAAAAAAAAAAAAAAAAAAAAAAAAAAAAAAAAAAAAAAAAAAAAAAAAAAAAAAAAAAAAAAAAAAAAAAAAAAAAAAAAAAAAAAAAAAAAAAAAAAAAAAAAAAAAAAAAAAAAAAAAAAAAAAAAAAAAAAAAAAAAAAAAAAAAAAAAAAAAAAAAAAAAAAAAAAAAAAAAAAAAAAAAAAAAAAAAAAAAAAAAAAAAAAAAAAAAAAAAAAAAAAAAAAAAAAAAAAAAAAAAAAAAAAAAAAAAAAAAAAAAAAAAAAAAAAAAAAAAAAAAAAAAAAAAAAAAAAAAAAAAAAAAAAAAAAAAAAAAAAAAAAAAAAAAAAAAAAAAAAAAAAAAAAAAAAAAAAAAAAAAAAAAAAAAAAAAAAAAAAAAAAAAAAAAAAAAAAAAAAAAAAAAAAAAAAAAAAAAAAAAAAAAAAAAAAAAAAAAAAAAAAAAAAAAAAAAAAAAAAAAAAAAAAAAAAAAAAAAAAAAAAAAAAAAAAAAAAAAAAAAAAAAAAAAAAAAAAAAAAAAAAAAAAAAAAAAAAAAAAAAAAAAAAAAAAAAAAAAAAAAAAAAAAAAAAAAAAAAAAAAAAAAAAAAAAAAAAAAAAAAAAAAAAAAAAAAAAAAAAAAAAAAAAAAAAAAAAAAAAAAAAAAAAAAAAAAAAAAAAAAAAAAAAAAAAAAAAAAAAAAAAAAAAAAAAAAAAAAAAAAAAAAAAAAAAAAAAAAAAAAAAAAAAAAAAAAAAAAAAAAAAAAAAAAAAAAAAAAAAAAAAAAAAAAAAAAAAAAAAAAAAAAAAAAAAAAAAAAAAAAAAAAAAAAAAAAAAAAAAAAAAAAAAAAAAAAAAAAAAAAAAAAAAAAAAAAAAAAAAAAAAAAAAAAAAAAAAAAAAAAAAAAAAAAAAAAAAAAAAAAAAAAAAAAAAAAAAAAAAAAAAAAAAAAAAAAAAAAAAAAAAAAAAAAAAAAAAAAAAAAAAAAAAAAAAAAAAAAAAAAAAAAAAAAAAAAAAAAAAAAAAAAAAAAAAAAAAAAAAAAAAAAAAAAAAAAAAAAAAAAAAAAAAAAAAAAAAAAAAAAAAAAAAAAAAAAAAAAAAAAAAAAAAAAAAAAAAAAAAAAAAAAAAAAAAAAAAAAAAAAAAAAAAAAAAAAAAAAAAAAAAAAAAAAAAAAAAAAAAAAAAAAAAAAAAAAAAAAAAAAAAAAAAAAAAAAAAAAAAAAAAAAAAAAAAAAAAAAAAAAAAAAAAAAAAAAAAAAAAAAAAAAAAAAAAAAAAAAAAAAAAAAAAAAAAAAAAAAAAAAAAAAAAAAAAAAAAAAAAAAAAAAAAAAAAAAAAAAAAAAAAAAAAAAAAAAAAAAAAAAAAAAAAAAAAAAAAAAAAAAAAAAAAAAAAAAAAAAAAAAAAAAAAAAAAAAAAAAAAAAAAAAAAAAAAAAAAAAAAAAAAAAAAAAAAAAAAAAAAAAAAAAAAAAAAAAAAAAAAAAAAAAAAAAAAAAAAAAAAAAAAAAAAAAAAAAAAAAAAAAAAAAAAAAAAAAAAAAAAAAAAAAAAAAAAAAAAAAAAAAAAAAAAAAAAAAAAAAAAAAAAAAAAAAAAAAAAAAAAAAAAAAAAAAAAAAAAAAAAAAAAAAAAAAAAAAAAAAAAAAAAAAAAAAAAAAAAAAAAAAAAAAAAAAAAAAAAAAAAAAAAAAAAAAAAAAAAAAAAAAAAAExvdmVwcmVldAAABZADAAIAAAAUAAAQopAEAAIAAAAUAAAQtpKRAAIAAAADNzgAAJKSAAIAAAADNzgAAOocAAcAAAgMAAAIlgAAAAAc6gAAAAgAAAAAAAAAAAAAAAAAAAAAAAAAAAAAAAAAAAAAAAAAAAAAAAAAAAAAAAAAAAAAAAAAAAAAAAAAAAAAAAAAAAAAAAAAAAAAAAAAAAAAAAAAAAAAAAAAAAAAAAAAAAAAAAAAAAAAAAAAAAAAAAAAAAAAAAAAAAAAAAAAAAAAAAAAAAAAAAAAAAAAAAAAAAAAAAAAAAAAAAAAAAAAAAAAAAAAAAAAAAAAAAAAAAAAAAAAAAAAAAAAAAAAAAAAAAAAAAAAAAAAAAAAAAAAAAAAAAAAAAAAAAAAAAAAAAAAAAAAAAAAAAAAAAAAAAAAAAAAAAAAAAAAAAAAAAAAAAAAAAAAAAAAAAAAAAAAAAAAAAAAAAAAAAAAAAAAAAAAAAAAAAAAAAAAAAAAAAAAAAAAAAAAAAAAAAAAAAAAAAAAAAAAAAAAAAAAAAAAAAAAAAAAAAAAAAAAAAAAAAAAAAAAAAAAAAAAAAAAAAAAAAAAAAAAAAAAAAAAAAAAAAAAAAAAAAAAAAAAAAAAAAAAAAAAAAAAAAAAAAAAAAAAAAAAAAAAAAAAAAAAAAAAAAAAAAAAAAAAAAAAAAAAAAAAAAAAAAAAAAAAAAAAAAAAAAAAAAAAAAAAAAAAAAAAAAAAAAAAAAAAAAAAAAAAAAAAAAAAAAAAAAAAAAAAAAAAAAAAAAAAAAAAAAAAAAAAAAAAAAAAAAAAAAAAAAAAAAAAAAAAAAAAAAAAAAAAAAAAAAAAAAAAAAAAAAAAAAAAAAAAAAAAAAAAAAAAAAAAAAAAAAAAAAAAAAAAAAAAAAAAAAAAAAAAAAAAAAAAAAAAAAAAAAAAAAAAAAAAAAAAAAAAAAAAAAAAAAAAAAAAAAAAAAAAAAAAAAAAAAAAAAAAAAAAAAAAAAAAAAAAAAAAAAAAAAAAAAAAAAAAAAAAAAAAAAAAAAAAAAAAAAAAAAAAAAAAAAAAAAAAAAAAAAAAAAAAAAAAAAAAAAAAAAAAAAAAAAAAAAAAAAAAAAAAAAAAAAAAAAAAAAAAAAAAAAAAAAAAAAAAAAAAAAAAAAAAAAAAAAAAAAAAAAAAAAAAAAAAAAAAAAAAAAAAAAAAAAAAAAAAAAAAAAAAAAAAAAAAAAAAAAAAAAAAAAAAAAAAAAAAAAAAAAAAAAAAAAAAAAAAAAAAAAAAAAAAAAAAAAAAAAAAAAAAAAAAAAAAAAAAAAAAAAAAAAAAAAAAAAAAAAAAAAAAAAAAAAAAAAAAAAAAAAAAAAAAAAAAAAAAAAAAAAAAAAAAAAAAAAAAAAAAAAAAAAAAAAAAAAAAAAAAAAAAAAAAAAAAAAAAAAAAAAAAAAAAAAAAAAAAAAAAAAAAAAAAAAAAAAAAAAAAAAAAAAAAAAAAAAAAAAAAAAAAAAAAAAAAAAAAAAAAAAAAAAAAAAAAAAAAAAAAAAAAAAAAAAAAAAAAAAAAAAAAAAAAAAAAAAAAAAAAAAAAAAAAAAAAAAAAAAAAAAAAAAAAAAAAAAAAAAAAAAAAAAAAAAAAAAAAAAAAAAAAAAAAAAAAAAAAAAAAAAAAAAAAAAAAAAAAAAAAAAAAAAAAAAAAAAAAAAAAAAAAAAAAAAAAAAAAAAAAAAAAAAAAAAAAAAAAAAAAAAAAAAAAAAAAAAAAAAAAAAAAAAAAAAAAAAAAAAAAAAAAAAAAAAAAAAAAAAAAAAAAAAAAAAAAAAAAAAAAAAAAAAAAAAAAAAAAAAAAAAAAAAAAAAAAAAAAAAAAAAAAAAAAAAAAAAAAAAAAAAAAAAAAAAAAAAAAAAAAAAAAAAAAAAAAAAAAAAAAAAAAAAAAAAAAAAAAAAAAAAAAAAAAAAAAAAAAAAAAAAAAAAAAAAAAAAAAAAAAAAAAAAAAAAAAAAAAAAAAAAAAAAAAAAAAAAAAAAAAAAAAAAAAAAAAAAAAAAAAAAAAAAAAAAAAAAAAAAAAAAAAAAAAAAAAAAAAAAAAAAAAAAAAAAAAAAAAAAAAAAAAAAAAAAAAAAAAAAAAAAAAAAAAAAAAAAAAAAAAAAAAAAAAAAAAAAAAAAAAAAAAAAAAAAAAAAAAAAAAAAAAAAAAAAAAAAAAAAAAAAAAAAAAAAAAAAAAAAAAAAAAAAAAAAAAAAAAAAAAAAAAAAAAAAAAAAAAAAAAAAAAAAAAAAAAAAAAAAAAAAAAAAAAAAAAAAAAAAAAAAAAAAAAAAAAAAAAAAAAAAAAAAAAAAAAAAAAAAAAAAAAAAAAAAAAAAAAAAAAAAAAAAAAAAAAAAAAAAAAAAAAAAAAAAAAAAAAAAAAAAAAAAAAAAAAAAAAAAAAAAAAAAAAAAAAAAAAAAAAAAAAAAAAAAAAAAAAAAAAAAAAAAAAAAAAAAAAAAAAAAAAAAAAAAAAAAAAAAAAAAAAAAAAAAAAAAAAAAAAAAAAAAAAAAAAAAAAAAAAAAAAAAAAAAAAAAAAAAAAAAAAAAAAAAAAAAAAAAAAAAAAAAAAAAAAAAAAAAAAAAAAAAAAAAAAAAAAAAAAAAAAAAAAAAAAAAAAAAAAAAAAAAAAAAAAAAAAAAAAAAAAAAAAAAAAAAAAAAAAAAAAAAAAAAAAAAAAAAAAAAAAAAAAAAAAAAAAAAAAAAAAAAAAAAAAAAAAAAAAAAAAAAAAAAAAAAAAAAAAAAAAAAAAAAAAAAAAAAAAAAAAAAAAAAAAAAAAAAAAAAAAAAAAAAAAAAAAAAAAAAAAAAAAAAAAAAAAAAAAAAAAAAAAAAAAADIwMjE6MTE6MjUgMjE6NTI6NTkAMjAyMToxMToyNSAyMTo1Mjo1OQAAAEwAbwB2AGUAcAByAGUAZQB0AAAA/+ELHGh0dHA6Ly9ucy5hZG9iZS5jb20veGFwLzEuMC8APD94cGFja2V0IGJlZ2luPSfvu78nIGlkPSdXNU0wTXBDZWhpSHpyZVN6TlRjemtjOWQnPz4NCjx4OnhtcG1ldGEgeG1sbnM6eD0iYWRvYmU6bnM6bWV0YS8iPjxyZGY6UkRGIHhtbG5zOnJkZj0iaHR0cDovL3d3dy53My5vcmcvMTk5OS8wMi8yMi1yZGYtc3ludGF4LW5zIyI+PHJkZjpEZXNjcmlwdGlvbiByZGY6YWJvdXQ9InV1aWQ6ZmFmNWJkZDUtYmEzZC0xMWRhLWFkMzEtZDMzZDc1MTgyZjFiIiB4bWxuczpkYz0iaHR0cDovL3B1cmwub3JnL2RjL2VsZW1lbnRzLzEuMS8iLz48cmRmOkRlc2NyaXB0aW9uIHJkZjphYm91dD0idXVpZDpmYWY1YmRkNS1iYTNkLTExZGEtYWQzMS1kMzNkNzUxODJmMWIiIHhtbG5zOnhtcD0iaHR0cDovL25zLmFkb2JlLmNvbS94YXAvMS4wLyI+PHhtcDpDcmVhdGVEYXRlPjIwMjEtMTEtMjVUMjE6NTI6NTkuNzc3PC94bXA6Q3JlYXRlRGF0ZT48L3JkZjpEZXNjcmlwdGlvbj48cmRmOkRlc2NyaXB0aW9uIHJkZjphYm91dD0idXVpZDpmYWY1YmRkNS1iYTNkLTExZGEtYWQzMS1kMzNkNzUxODJmMWIiIHhtbG5zOmRjPSJodHRwOi8vcHVybC5vcmcvZGMvZWxlbWVudHMvMS4xLyI+PGRjOmNyZWF0b3I+PHJkZjpTZXEgeG1sbnM6cmRmPSJodHRwOi8vd3d3LnczLm9yZy8xOTk5LzAyLzIyLXJkZi1zeW50YXgtbnMjIj48cmRmOmxpPkxvdmVwcmVldDwvcmRmOmxpPjwvcmRmOlNlcT4NCgkJCTwvZGM6Y3JlYXRvcj48L3JkZjpEZXNjcmlwdGlvbj48L3JkZjpSREY+PC94OnhtcG1ldGE+DQogICAgICAgICAgICAgICAgICAgICAgICAgICAgICAgICAgICAgICAgICAgICAgICAgICAgICAgICAgICAgICAgICAgICAgICAgICAgICAgICAgICAgICAgICAgICAgICAgICAgCiAgICAgICAgICAgICAgICAgICAgICAgICAgICAgICAgICAgICAgICAgICAgICAgICAgICAgICAgICAgICAgICAgICAgICAgICAgICAgICAgICAgICAgICAgICAgICAgICAgICAKICAgICAgICAgICAgICAgICAgICAgICAgICAgICAgICAgICAgICAgICAgICAgICAgICAgICAgICAgICAgICAgICAgICAgICAgICAgICAgICAgICAgICAgICAgICAgICAgICAgIAogICAgICAgICAgICAgICAgICAgICAgICAgICAgICAgICAgICAgICAgICAgICAgICAgICAgICAgICAgICAgICAgICAgICAgICAgICAgICAgICAgICAgICAgICAgICAgICAgICAgCiAgICAgICAgICAgICAgICAgICAgICAgICAgICAgICAgICAgICAgICAgICAgICAgICAgICAgICAgICAgICAgICAgICAgICAgICAgICAgICAgICAgICAgICAgICAgICAgICAgICAKICAgICAgICAgICAgICAgICAgICAgICAgICAgICAgICAgICAgICAgICAgICAgICAgICAgICAgICAgICAgICAgICAgICAgICAgICAgICAgICAgICAgICAgICAgICAgICAgICAgIAogICAgICAgICAgICAgICAgICAgICAgICAgICAgICAgICAgICAgICAgICAgICAgICAgICAgICAgICAgICAgICAgICAgICAgICAgICAgICAgICAgICAgICAgICAgICAgICAgICAgCiAgICAgICAgICAgICAgICAgICAgICAgICAgICAgICAgICAgICAgICAgICAgICAgICAgICAgICAgICAgICAgICAgICAgICAgICAgICAgICAgICAgICAgICAgICAgICAgICAgICAKICAgICAgICAgICAgICAgICAgICAgICAgICAgICAgICAgICAgICAgICAgICAgICAgICAgICAgICAgICAgICAgICAgICAgICAgICAgICAgICAgICAgICAgICAgICAgICAgICAgIAogICAgICAgICAgICAgICAgICAgICAgICAgICAgICAgICAgICAgICAgICAgICAgICAgICAgICAgICAgICAgICAgICAgICAgICAgICAgICAgICAgICAgICAgICAgICAgICAgICAgCiAgICAgICAgICAgICAgICAgICAgICAgICAgICAgICAgICAgICAgICAgICAgICAgICAgICAgICAgICAgICAgICAgICAgICAgICAgICAgICAgICAgICAgICAgICAgICAgICAgICAKICAgICAgICAgICAgICAgICAgICAgICAgICAgICAgICAgICAgICAgICAgICAgICAgICAgICAgICAgICAgICAgICAgICAgICAgICAgICAgICAgICAgICAgICAgICAgICAgICAgIAogICAgICAgICAgICAgICAgICAgICAgICAgICAgICAgICAgICAgICAgICAgICAgICAgICAgICAgICAgICAgICAgICAgICAgICAgICAgICAgICAgICAgICAgICAgICAgICAgICAgCiAgICAgICAgICAgICAgICAgICAgICAgICAgICAgICAgICAgICAgICAgICAgICAgICAgICAgICAgICAgICAgICAgICAgICAgICAgICAgICAgICAgICAgICAgICAgICAgICAgICAKICAgICAgICAgICAgICAgICAgICAgICAgICAgICAgICAgICAgICAgICAgICAgICAgICAgICAgICAgICAgICAgICAgICAgICAgICAgICAgICAgICAgICAgICAgICAgICAgICAgIAogICAgICAgICAgICAgICAgICAgICAgICAgICAgICAgICAgICAgICAgICAgICAgICAgICAgICAgICAgICAgICAgICAgICAgICAgICAgICAgICAgICAgICAgICAgICAgICAgICAgCiAgICAgICAgICAgICAgICAgICAgICAgICAgICAgICAgICAgICAgICAgICAgICAgICAgICAgICAgICAgICAgICAgICAgICAgICAgICAgICAgICAgICAgICAgICAgICAgICAgICAKICAgICAgICAgICAgICAgICAgICAgICAgICAgICAgICAgICAgICAgICAgICAgICAgICAgICAgICAgICAgICAgICAgICAgICAgICAgICAgICAgICAgICAgICAgICAgICAgICAgIAogICAgICAgICAgICAgICAgICAgICAgICAgICAgICAgICAgICAgICAgICAgICAgICAgICAgICAgICAgICAgICAgICAgICAgICAgICAgICAgICAgICAgICAgICAgICAgICAgICAgCiAgICAgICAgICAgICAgICAgICAgICAgICAgICAgICAgICAgICAgICAgICAgICAgICAgICAgICAgICAgICAgICAgICAgICAgICAgICAgICAgICAgICAgICAgICAgICAgICAgICAKICAgICAgICAgICAgICAgICAgICAgICAgICAgIDw/eHBhY2tldCBlbmQ9J3cnPz7/2wBDAAcFBQYFBAcGBQYIBwcIChELCgkJChUPEAwRGBUaGRgVGBcbHichGx0lHRcYIi4iJSgpKywrGiAvMy8qMicqKyr/2wBDAQcICAoJChQLCxQqHBgcKioqKioqKioqKioqKioqKioqKioqKioqKioqKioqKioqKioqKioqKioqKioqKioqKir/wAARCABMAbkDASIAAhEBAxEB/8QAHwAAAQUBAQEBAQEAAAAAAAAAAAECAwQFBgcICQoL/8QAtRAAAgEDAwIEAwUFBAQAAAF9AQIDAAQRBRIhMUEGE1FhByJxFDKBkaEII0KxwRVS0fAkM2JyggkKFhcYGRolJicoKSo0NTY3ODk6Q0RFRkdISUpTVFVWV1hZWmNkZWZnaGlqc3R1dnd4eXqDhIWGh4iJipKTlJWWl5iZmqKjpKWmp6ipqrKztLW2t7i5usLDxMXGx8jJytLT1NXW19jZ2uHi4+Tl5ufo6erx8vP09fb3+Pn6/8QAHwEAAwEBAQEBAQEBAQAAAAAAAAECAwQFBgcICQoL/8QAtREAAgECBAQDBAcFBAQAAQJ3AAECAxEEBSExBhJBUQdhcRMiMoEIFEKRobHBCSMzUvAVYnLRChYkNOEl8RcYGRomJygpKjU2Nzg5OkNERUZHSElKU1RVVldYWVpjZGVmZ2hpanN0dXZ3eHl6goOEhYaHiImKkpOUlZaXmJmaoqOkpaanqKmqsrO0tba3uLm6wsPExcbHyMnK0tPU1dbX2Nna4uPk5ebn6Onq8vP09fb3+Pn6/9oADAMBAAIRAxEAPwD6RooooAKKKKACiiigAooooAKKKKACiiigAooooAKKKKACiiigAooooAKKKKACiiigAooooAKKKKACiiigAooooAKKKKACiiigAooooAKKKKACiiigAooooAKKKKACiiigAooooAKKKKACiiigAooooAKKKq6nqVro+mXGoag7R2ttG0s0ixs+xVGScKCcAD0oAtUVm2mv6de6AmtW0kr2Dxecsv2eQFkxncFK7sY5zin6Prmn69pEWqaXM0tlMu6OV4niDL64cA496AL9FV7K9j1C1W5tw3kvzG7DHmL2Yex7evWrFABRRRQAUVXivYpb2a0+ZJ4gGKOMblPRh6jqPbvVigAooooAKKKKACiiigAqnf2H294BJPPFFE5kZYJniLtjABZSCV5Jx3OPSrlZviDUZdK8P3t5a21xdXEUDtDDbQtK7vtO0BQD1OKAOP8ABVvL4h1PxZf3N/qZsH1FrKxjGoTARpEuxmTDcZbJz7V3lnAbWxgt2leZoo1QySMSzkDGSTySfeuZ+GGknRPhto9lJFNFceQJbhLiNkcSud7ghgDkFiPwrrKACiiigAooooAKKKKACiqQ1NW15tL+y3YZbcXH2kwnyCC23YH6b+M49Ku0AFFYXizVr7SbGxOli38+81CC03XKM6oJGwWwpBJHXGRn261sWyzrboLuSOWYD53ijKKT7KWYj8zQBLRRVe6vYrRokfc8szbI4kGWY9/wA5JPAoAsUUUUAFFFFABRRRQAUUUUAFFZ2k67Z63LfLYeawsbg20zvGUHmAAsozycZHNWYr2KW9mtPmSeIBijjG5T0Yeo6j270AWKK5261XVrLxvpmmyvZzWGopcMNsDpLF5YUgbt5DZ3dcDp78dFQAUVj33iew069ktbi31V5I8Za30i6nQ5APDpGVPXseOnUVDr2oyPp+lCyDr/AGlewRjzDJBIqE+Y3GAwbYjfKcdwfSgDeorgbnx/ro1uSwsfC9rIFmhhQ3GrCKTdKrOqsgiba2xdxXJwCPw3NJvZ9U8U6oLxBH/ZaQQrCGLKkrxiR2BwN3DqoOOgPTJFAHRUVwkPxEkZbZ3t7dw9jNfyJA5Y+WZhHaqrHA3Sbs8jsa2/D2tXup63rVpdPayRabJFAGt42XEpTfIpJY5wGQcAc5+gAOgorm/Fvi2Pw3DCqwXck8lzaoSmnXE0flyXCRv86KV37S2FzknbwcgHcsb2LUbJLq3SdI5M4W4t5IHGDjlHAYdO4569KALFFcU3ivXDrmq2cVrZtHY6hYWwG1ixWeTEgzu5ZYmjkyBgbiMHGaq+Fru7ttSglSG0ktPE19eXbLGh8xI1H7uUtuwVKJGpG3q4OetAHf0Vz/hq/kk1LXtKk5XSr1YoWJz+7eGOVR+G8qPYCugoAK4f4uXM/wDwgraTYsovNcuYdNhz/wBNG+bgf7Iau4rmte8LXeteKdD1UanHDbaRLJMtm1qX852TaCW3jG3JI470AY/xDvL7Rfhnd2VrbQRNcxJptqIrliwaTEagDYOgPr2qXxbGnh/wHo+gWZEcV3d2OkAgf8s3dVcfigYfjWp4n8L3PiPVNFn/ALQhgtNLvBeG2e1MnnSKCFy28YAyT0POKl8Z6NLrOgKLVN95Y3UN/bLwN0kLhwoJ6bgCufegCt8QtevPC/ge61DSPJW8QpFbRvEXDu7BFUAEc5PuOOhqqfEuoN8SdJ8LW08Mpg057zV3MeSfurGARgKSxJPtjpVvxHoEHjrSNJlt9QltUtb2HUIyqBg7IT8jqfc8jsR7VFpfgSPS/Gl94gj1S6kN7HEskDKoLMgPLOOSCTuxxyAPugKADpL5rpLCY6fGkl1txEshwu7sT7DrXmVj4v8AEeq+H/HFzo2oLOmi3OzTru4t0LTsg3SxFVABBICqeuHGSSM13vhqDVrazuo9b1E6i32t2t52thA3lHBClQex3AHjIAOKyvDvgOPw/p0WkpeibR7e5a5htjBiRmLlx5sm47wrYIwF+6uc4oAb4zu20vU/Cmpj5Jjq0djIAeGjuFZWX/vsRt/wEV0mozX0FqG0y0iu5twBjln8oY9d21vyxWJ4isf7f8Q6JYIA0OnXi6ldtgHaUVhEnsS7Bvoh9Rnb1HS7HV7UW+p2sV1CGDiOVdwyO/60AZn9o+KP+hesf/Bqf/jNbVxOttbSzyCRkiQuwjjaRiAM8KoJY+wBJ7Vi/wDCDeF/+gDY/wDfkVvUAc//AMJppf8Az665/wCCC+/+M0f8Jppf/Prrn/ggvv8A4zXQUUAc/wD8Jppf/Prrn/ggvv8A4zR/wmml/wDPrrn/AIIL7/4zWnZ6kl/dXKWyboLdzE02eGkH3lUd8dCfXjscXaAOf/4TTS/+fXXP/BBff/GaP+E00v8A59dc/wDBBff/ABmugooA5/8A4TTS/wDn11z/AMEF9/8AGaP+E00v/n11z/wQX3/xmugooA5//hNNL/59dc/8EF9/8Zo/4TTS/wDn11z/AMEF9/8AGa6CigDn/wDhNNL/AOfXXP8AwQX3/wAZo/4TTS/+fXXP/BBff/Gav+Idah8O+Hb7WLqKSaGyhaZ0jxuYD0yQKtwSzTWEUrwiKd4gxhZvusRnaTjseM4/CgDJt/F2m3NzFBHbawryuEUyaJeRqCTjlmiAUe5IA71ha14um0nxfNpmtXcujWtw0I0u8MKtbznAMiO5B2uTuGOBjBHNddp+oxajDI0QZJIZGimifG6Jx1Bx7EEHuCD3rI1nwvNrdlrOn3eoK9hqoCmJ7cM1uPLVDsbOM/LuBIOGOfagCqut6s3xUuvD5lthZrowvoMQncHaYp853c42npjrXKHxj4lk+F9r42bUoYjFfbZbGG1Xy5ovtZg2lmywODkEEdOc9a7GHwpc2/jk+IYNQhEY0tdNS1a1JKqrl1Yv5nJycEYH4Vjf8K2vP+FXf8Ib/bkG3zvN+1/YDn/j48/G3zf73HXpQBr+Of8AUaF/2HLP/wBDqTxfLrgs3GkalbaHawwPPdarPAJzEF/hWMkA8ZJY8DAGDniHxqHFnoAlZWf+27PcyrtBO/sMnH51p+KvDtv4s8M3eiXlzcW0F2FEklswV8Bg2ASCMHGDx0JoA8z0z/hP9RuNBtz8R2hn1jT21ARtoVuTCgCEBueSfMH5Gux8PTS3vxI16O8uDcSaNZ2lkjlAuTIhlkfA4BY7MgcfKPw07Lwdptj4rTX4WmNzFpqaZFGzApHErbuBjOScf5NQW9j/AGN8Qr+9IAtddghBfAG24iDLtJ/2kK4/65n15AI7XxBdzfEDXLWW4iXRtHsojLiPBEz5c5bknaig8Y+/9Ky9F8Yald+EdLvJWV9R8RX8iadHJGAIICzspIXGQsSbueScDPNacfglkHiEHVZCNauHuARCA0LmNUXJz84XaCBx75pkXgea2HhxrPVjFLoUTwpm3zG6NGsZATcMEBQQSW5J65xQAvh7VdRvfHmv6e9811p2lRW8Kl40BM7qXflVGcLt9ua6m4nS1tpJ5t3lxKXbYhY4AycAAk/QVi+HfC6eHr7VbiO7eddQuftGxlwVJRFOTn5jlC2eOWb1reoA4qXxzp48Z2sSz34tTp8zNH/Z9xy/mRYO3Zk4Bbntn3rr7O7ivrSO5t9/lSDK+ZG0bfirAEfiKqvphfxLBqvmgCK0ktvL29dzo2c+2zGPetCgDi/id4jvvC/hS71O1uTZpBDmOVER3luCwEce1gRs6ljjOOhB5qa11fXYNe059XeBLGbQmur23SPm2uIzHuIfupEjAA/3DWj4t8LQeK9NtbeaXyZLO8ivYHKb18yMnAdcjcpyQRkdeopl74XbUtE1W1vr9je6rbG2mu4YtnlpggKiknCjcxwSTljzQBxFpLrXhz4a6b4is72RLq/vo7uTTTHGyXP2u4BKsSu8OFk4IZcYwQetdV42uv7K1bwrqUZ2yHV0sH/2451ZSv8A30I2+qitVdBE8tg+pzJcLp5D28MURjjDgYDlSzEkDOOcDOeuCKPiKx/t/wAQ6JYIA0OnXi6ldtgHaUVhEnsS7Bvoh9RkAbrf/JRfC3/XK9/9AjqteeKLzUNW1nT9EWYnTVECGCMM810y7tuWBVEUMuWbqT7c2db/AOSi+Fv+uV7/AOgR1Jp3ha60jWNUn03VFisdUuTeT27W26RJSqqxSTdgA7RwUPsaANzTlu10u1XU3je9EKC4eIYRpNo3FR2Gc4qpd6dLe6/Y3Mwi+y2AaWLklzMylM4xgAIzc5ydx6Y50wMAAdvU0UAY6+FNFXVf7SFn/pf2s3vmGVz++MXlbsZx9zjHQdQM81MulCHXLm9h2mO+iWO6jbuUBCsPfB2n2C+nOlRQBzyeA/DaWiWy6d+6SCO3UGeQlUjbdHht2dynGGzuGAAcCtLTdE07SJLqTTrZYHu5BLOwYkyOFC5OT1wo+vXrV+igCve2NvqNusN5H5kazRTgbiMPHIsiHj0ZVPvjnirFFFAGcmg6amry6mtuftUrbnbzGKltgTfsztD7Bt3YzjjOKdpui2GjwRxadb+WsUQhiDSM+xB0RSxOF4HA4q/RQBnaRpf9ni7nlKtd39wbi5Zem7aqqo9lRFX3xnjNaNFFABRRRQAUUUUANSNI93loq7m3NtGMn1PvTqKKACiiigBqRpHu8tFXc25toxk+p96dRRQAUUUUAeeeLpfF83iPTbXSvE0Xh+O/u3tbW2XT47mSVUjZ3mdnPA+Q4UDoVzyeKnh2bxYmn6pr+o+OG1fT9MN5H9kXSYIfPaEMu7eOQNwzgdcDnFdre+GbS/8AFdjr88s/2mwt5YIEDDYvmY3PjGd2BjrTfDXhWw8L+FYtBs2mntkDhnuG3PIXYliSMdSxoAqeBWW3+GGhzzykbtMiuZpT13Ogd2Pvlia5Ea7q118OvD8P266OqeKNQQrMJNkkFu8vmHBGMYiAHHqTjrjrdC0lIvCcvhHUDIFtrdrJXVirS2xG1HVvXaQDjowPtmRvBOnOuj7ri8LaRxA4lALDyzFhsDoFJxtwQST1JoAp3XiBby/8QSyTSxaZoCeW4hdkae42b2GV5woZFAHVmPXAqz8ORqDfDvRptYup7q9ubf7TNLOxLEyEuBz0wGAA6ADoKd/wgulBdWiWS6S31WV55rdZAESVkCmRRjIOFBGSQCAQK29PsYtNsIbSAsyRIFDOQWbAxzjjoO3HpQBFqeoy6ckbQ6ZeX+8kEWgQlPruZf0rmPCHiC6lhuon0HVsSardDzWEW2MGduv7zPy98A9OM12tU9M02LS4Z44XdxNcy3DF8cNI5cj6ZNAFyuKur+/T4r6Vpi3rt5sFxdzwI58tLYKEjBXOCxkO7cRkYIHFdrWJqfhSy1LXotY8+6tL1LZrOSW1kCNNAzBvLY4JA3DIKlWB78mgDidSt7270WPw9Lqs+oRav4lMNvcTfO620X76RTxggNDIo7YI7V0GlLc2XxQvtPtLy7udO/syO4uI7m5ebybhpCF2ls7dyhiVBxwOBW3N4bsnuNMmtt9mdLR0tVgChUVlCkbSCOgHPXr6mrVnp9rpcc8kfDzOZrieRstI2MbmPsABjgADAAFAHOWV01t8ZNU05P8AVXmjW96wxwHWWSIn6ldo/wCAj0rr65/RNPM/iLU/EU6MjXiR2tsrZBEEZYhiOxZnY49NvfNdBQAUUUUAZmvaFD4gs4IJ7m4tjb3MdzFLbModZEOVPzAgjPYjmr1tE8FukctxJcuowZZQoZvc7QB+QFS0UAFNkjSVCkqK6nqrDINOooAKKKKACiiigAooooAKKKKACmpGke7y0Vdzbm2jGT6n3p1FAGO/h1JvE1trVzqF7NLaLItvbsYxFGJAA3CoCeg5JOMfWtiiigAooooAKKKKACiiigAooooAKKKKACiiigAooooAKKKKACiiigAooooAKKKKACiiigAooooAKKKKACiiigAooooAKKKKACiiigAooooAKKKKACiiigAooooAKKKKACiiigAooooAKKKKACiiigAooooAKKKKACiiigAooooAKKKKACiiigAooooA/9k=)"
   ]
  },
  {
   "cell_type": "code",
   "execution_count": null,
   "id": "f5289c86",
   "metadata": {
    "id": "f5289c86"
   },
   "outputs": [],
   "source": [
    "import math\n",
    "def degradation_function(u,v,a,b):               #degration function\n",
    "  pi=3.14\n",
    "  T=1\n",
    "  div=pi*(u*a+v*b)\n",
    "  mul1=T/div\n",
    "  mul2=math.sin(div)*complex(math.cos(div),-1*math.sin(div))       \n",
    "  H=mul1*mul2\n",
    "  return H"
   ]
  },
  {
   "cell_type": "markdown",
   "id": "HX2drWno492U",
   "metadata": {
    "id": "HX2drWno492U"
   },
   "source": [
    "implementing wiener filter![Capture2.JPG](data:image/jpeg;base64,/9j/4AAQSkZJRgABAQEAYABgAAD/4RDoRXhpZgAATU0AKgAAAAgABAE7AAIAAAAKAAAISodpAAQAAAABAAAIVJydAAEAAAAUAAAQzOocAAcAAAgMAAAAPgAAAAAc6gAAAAgAAAAAAAAAAAAAAAAAAAAAAAAAAAAAAAAAAAAAAAAAAAAAAAAAAAAAAAAAAAAAAAAAAAAAAAAAAAAAAAAAAAAAAAAAAAAAAAAAAAAAAAAAAAAAAAAAAAAAAAAAAAAAAAAAAAAAAAAAAAAAAAAAAAAAAAAAAAAAAAAAAAAAAAAAAAAAAAAAAAAAAAAAAAAAAAAAAAAAAAAAAAAAAAAAAAAAAAAAAAAAAAAAAAAAAAAAAAAAAAAAAAAAAAAAAAAAAAAAAAAAAAAAAAAAAAAAAAAAAAAAAAAAAAAAAAAAAAAAAAAAAAAAAAAAAAAAAAAAAAAAAAAAAAAAAAAAAAAAAAAAAAAAAAAAAAAAAAAAAAAAAAAAAAAAAAAAAAAAAAAAAAAAAAAAAAAAAAAAAAAAAAAAAAAAAAAAAAAAAAAAAAAAAAAAAAAAAAAAAAAAAAAAAAAAAAAAAAAAAAAAAAAAAAAAAAAAAAAAAAAAAAAAAAAAAAAAAAAAAAAAAAAAAAAAAAAAAAAAAAAAAAAAAAAAAAAAAAAAAAAAAAAAAAAAAAAAAAAAAAAAAAAAAAAAAAAAAAAAAAAAAAAAAAAAAAAAAAAAAAAAAAAAAAAAAAAAAAAAAAAAAAAAAAAAAAAAAAAAAAAAAAAAAAAAAAAAAAAAAAAAAAAAAAAAAAAAAAAAAAAAAAAAAAAAAAAAAAAAAAAAAAAAAAAAAAAAAAAAAAAAAAAAAAAAAAAAAAAAAAAAAAAAAAAAAAAAAAAAAAAAAAAAAAAAAAAAAAAAAAAAAAAAAAAAAAAAAAAAAAAAAAAAAAAAAAAAAAAAAAAAAAAAAAAAAAAAAAAAAAAAAAAAAAAAAAAAAAAAAAAAAAAAAAAAAAAAAAAAAAAAAAAAAAAAAAAAAAAAAAAAAAAAAAAAAAAAAAAAAAAAAAAAAAAAAAAAAAAAAAAAAAAAAAAAAAAAAAAAAAAAAAAAAAAAAAAAAAAAAAAAAAAAAAAAAAAAAAAAAAAAAAAAAAAAAAAAAAAAAAAAAAAAAAAAAAAAAAAAAAAAAAAAAAAAAAAAAAAAAAAAAAAAAAAAAAAAAAAAAAAAAAAAAAAAAAAAAAAAAAAAAAAAAAAAAAAAAAAAAAAAAAAAAAAAAAAAAAAAAAAAAAAAAAAAAAAAAAAAAAAAAAAAAAAAAAAAAAAAAAAAAAAAAAAAAAAAAAAAAAAAAAAAAAAAAAAAAAAAAAAAAAAAAAAAAAAAAAAAAAAAAAAAAAAAAAAAAAAAAAAAAAAAAAAAAAAAAAAAAAAAAAAAAAAAAAAAAAAAAAAAAAAAAAAAAAAAAAAAAAAAAAAAAAAAAAAAAAAAAAAAAAAAAAAAAAAAAAAAAAAAAAAAAAAAAAAAAAAAAAAAAAAAAAAAAAAAAAAAAAAAAAAAAAAAAAAAAAAAAAAAAAAAAAAAAAAAAAAAAAAAAAAAAAAAAAAAAAAAAAAAAAAAAAAAAAAAAAAAAAAAAAAAAAAAAAAAAAAAAAAAAAAAAAAAAAAAAAAAAAAAAAAAAAAAAAAAAAAAAAAAAAAAAAAAAAAAAAAAAAAAAAAAAAAAAAAAAAAAAAAAAAAAAAAAAAAAAAAAAAAAAAAAAAAAAAAAAAAAAAAAAAAAAAAAAAAAAAAAAAAAAAAAAAAAAAAAAAAAAAAAAAAAAAAAAAAAAAAAAAAAAAAAAAAAAAAAAAAAAAAAAAAAAAAAAAAAAAAAAAAAAAAAAAAAAAAAAAAAAAAAAAAAAAAAAAAAAAAAAAAAAAAAAAAAAAAAAAAAAAAAAAAAAAAAAAAAAAAAAAAAAAAAAAAAAAAAAAAAAAAAAAAAAAAAAAAAAAAAAAAAAAAAAAAAAAAAAAAAAAAAAAAAAAAAAAAAAAAAAAAAAAAAAAAAAAAAAAAAAAAAAAAAAAAAAAAAAAAAAAAAAAAAAAAAAAAAAAAAAAAAAAAAAAAAAAAAAAAAAAAAAAAAAAAAAAAAAAAAAAAAAAAAAAAAAAAAAAAAAAAAAAAAAAAAAAAAAAAAAAAAAAAAAAAAAAAAAAAAAAAAAAAAAAAAAAAAAAAAAAAAAAAAAAAAAAAAAAAAAAAAAAAAAAAAAAAAAAAAAAAAAAAAAAAAAAAAAAAAAAAAAAAAAAAAAAAAAAAAAAAAAAAAAAAAAAAAAAAAAAAAAAAAAAAAAAAAAAAAAAAAAAAAAAAAAAAAAAAAAAAAAAAAAAAAAAAAAAAAAAAAAAAAAAAAAAAAAAAAAAAAAAAAAAAAAAAAAAAAAAAAAAAAAAAAAAAAAAAAAAAAAAAAAAAAAAAAAAAAAAAAAAAAAAAAAAAAAAAAAAAAAAAAAAAAAAAAAAAAAAAAAAAAAAAAAAAAAAAAAAAAAAAAAAAAAAAAAAAAAAAAAAAAAAAAAAAAAAAAAAAAAAAAAAAAAAAAAAAAAAAAAAAAAAAAAAAAAAAAAAAAAAAAAAAAAAAAAAAAAAAAAAAAAAAAAAAAAAAAAAAAAAAAAAAAAAAAAAAAAAAAAAAAAAAAAAAAAAAAAAAAAAAAAAAAAAAAAAAAAAAAAAAAAAAAAAAAAAAAAAAAAAAAAAAAAAAAAAAAAAAAAAAAAAAAAAAAAAAAAAAAAAAAAAAAAAAAAAAAAAAAAAAAAAAAAAAAAAAAAAAAAAAAAAAAAAAAAAAAAAAAAAAAAAAAAAAAAAAAAAAAAAAAAAAAAAAAAAAAAAAAAAAAAAAAAAAAAAAAAAAAAAAAAAAAAAAAAAAAAExvdmVwcmVldAAABZADAAIAAAAUAAAQopAEAAIAAAAUAAAQtpKRAAIAAAADNTIAAJKSAAIAAAADNTIAAOocAAcAAAgMAAAIlgAAAAAc6gAAAAgAAAAAAAAAAAAAAAAAAAAAAAAAAAAAAAAAAAAAAAAAAAAAAAAAAAAAAAAAAAAAAAAAAAAAAAAAAAAAAAAAAAAAAAAAAAAAAAAAAAAAAAAAAAAAAAAAAAAAAAAAAAAAAAAAAAAAAAAAAAAAAAAAAAAAAAAAAAAAAAAAAAAAAAAAAAAAAAAAAAAAAAAAAAAAAAAAAAAAAAAAAAAAAAAAAAAAAAAAAAAAAAAAAAAAAAAAAAAAAAAAAAAAAAAAAAAAAAAAAAAAAAAAAAAAAAAAAAAAAAAAAAAAAAAAAAAAAAAAAAAAAAAAAAAAAAAAAAAAAAAAAAAAAAAAAAAAAAAAAAAAAAAAAAAAAAAAAAAAAAAAAAAAAAAAAAAAAAAAAAAAAAAAAAAAAAAAAAAAAAAAAAAAAAAAAAAAAAAAAAAAAAAAAAAAAAAAAAAAAAAAAAAAAAAAAAAAAAAAAAAAAAAAAAAAAAAAAAAAAAAAAAAAAAAAAAAAAAAAAAAAAAAAAAAAAAAAAAAAAAAAAAAAAAAAAAAAAAAAAAAAAAAAAAAAAAAAAAAAAAAAAAAAAAAAAAAAAAAAAAAAAAAAAAAAAAAAAAAAAAAAAAAAAAAAAAAAAAAAAAAAAAAAAAAAAAAAAAAAAAAAAAAAAAAAAAAAAAAAAAAAAAAAAAAAAAAAAAAAAAAAAAAAAAAAAAAAAAAAAAAAAAAAAAAAAAAAAAAAAAAAAAAAAAAAAAAAAAAAAAAAAAAAAAAAAAAAAAAAAAAAAAAAAAAAAAAAAAAAAAAAAAAAAAAAAAAAAAAAAAAAAAAAAAAAAAAAAAAAAAAAAAAAAAAAAAAAAAAAAAAAAAAAAAAAAAAAAAAAAAAAAAAAAAAAAAAAAAAAAAAAAAAAAAAAAAAAAAAAAAAAAAAAAAAAAAAAAAAAAAAAAAAAAAAAAAAAAAAAAAAAAAAAAAAAAAAAAAAAAAAAAAAAAAAAAAAAAAAAAAAAAAAAAAAAAAAAAAAAAAAAAAAAAAAAAAAAAAAAAAAAAAAAAAAAAAAAAAAAAAAAAAAAAAAAAAAAAAAAAAAAAAAAAAAAAAAAAAAAAAAAAAAAAAAAAAAAAAAAAAAAAAAAAAAAAAAAAAAAAAAAAAAAAAAAAAAAAAAAAAAAAAAAAAAAAAAAAAAAAAAAAAAAAAAAAAAAAAAAAAAAAAAAAAAAAAAAAAAAAAAAAAAAAAAAAAAAAAAAAAAAAAAAAAAAAAAAAAAAAAAAAAAAAAAAAAAAAAAAAAAAAAAAAAAAAAAAAAAAAAAAAAAAAAAAAAAAAAAAAAAAAAAAAAAAAAAAAAAAAAAAAAAAAAAAAAAAAAAAAAAAAAAAAAAAAAAAAAAAAAAAAAAAAAAAAAAAAAAAAAAAAAAAAAAAAAAAAAAAAAAAAAAAAAAAAAAAAAAAAAAAAAAAAAAAAAAAAAAAAAAAAAAAAAAAAAAAAAAAAAAAAAAAAAAAAAAAAAAAAAAAAAAAAAAAAAAAAAAAAAAAAAAAAAAAAAAAAAAAAAAAAAAAAAAAAAAAAAAAAAAAAAAAAAAAAAAAAAAAAAAAAAAAAAAAAAAAAAAAAAAAAAAAAAAAAAAAAAAAAAAAAAAAAAAAAAAAAAAAAAAAAAAAAAAAAAAAAAAAAAAAAAAAAAAAAAAAAAAAAAAAAAAAAAAAAAAAAAAAAAAAAAAAAAAAAAAAAAAAAAAAAAAAAAAAAAAAAAAAAAAAAAAAAAAAAAAAAAAAAAAAAAAAAAAAAAAAAAAAAAAAAAAAAAAAAAAAAAAAAAAAAAAAAAAAAAAAAAAAAAAAAAAAAAAAAAAAAAAAAAAAAAAAAAAAAAAAAAAAAAAAAAAAAAAAAAAAAAAAAAAAAAAAAAAAAAAAAAAAAAAAAAAAAAAAAAAAAAAAAAAAAAAAAAAAAAAAAAAAAAAAAAAAAAAAAAAAAAAAAAAAAAAAAAAAAAAAAAAAAAAAAAAAAAAAAAAAAAAAAAAAAAAAAAAAAAAAAAAAAAAAAAAAAAAAAAAAAAAAAAAAAAAAAAAAAAAAAAAAAAAAAAAAAAAAAAAAAAAAAAAAAAAAAAAAAAAAAAAAAAAAAAAAAAAAAAAAAAAAAAAAAAAAAAAAAAAAAAAAAAAAAAAAAAAAAAAAAAAAAAAAAAAAAAAAAAAAAAAAAAAAAAAAAAAAAAAAAAAAAAAAAAAAAAAAAAAAAAAAAAAAAAAAAAAAAAAAAAAAAAAAAAAAAAAAAAAAAAAAAAAAAAAAAAAAAAAAAAAAAAAAAAAAAAAAAAAAAAAAAAAAAAAAAAAAAAAAAAAAAAAAAAAAAAAAAAAAAAAAAAAAAAAAAAAAAAAAAAAAAAAAAAAAAAAAAAAAAAAAAAAAAAAAAAAAAAAAAAAAAAAAAAAAAAAAAAAAAAAAAAAAAAAAAAAAAAAAAAAAAAAAAAAAAAAAAAAAAAAAAAAAAAAAAAAAAAAAAAAAAAAAAAAAAAAAAAAAAAAAAAAAAAAAAAAAAAAAAAAAAAAAAAAAAAAAAAAAAAAAAAAAAAAAAAAAAAAAAAAAAAAAAAAAAAAAAAAAAAAAAAAAAAAAAAAAAAAAAAAAAAAAAAAAAAAAAAAAAAAAAAAAAAAAAAAAAAAAAAAAAAAAAAAAAAAAAAAAAAAAAAAAAAAAAAAAAAAAAAAAAAAAAAAAAAAAAAAAAAAAAAAAAAAAAAAAAAAAAAAAAAAAAAAAAAAAAAAAAAAAAAAAAAAAAAAAAAAAAAAAADIwMjE6MTE6MjUgMjE6NTM6NDEAMjAyMToxMToyNSAyMTo1Mzo0MQAAAEwAbwB2AGUAcAByAGUAZQB0AAAA/+ELHGh0dHA6Ly9ucy5hZG9iZS5jb20veGFwLzEuMC8APD94cGFja2V0IGJlZ2luPSfvu78nIGlkPSdXNU0wTXBDZWhpSHpyZVN6TlRjemtjOWQnPz4NCjx4OnhtcG1ldGEgeG1sbnM6eD0iYWRvYmU6bnM6bWV0YS8iPjxyZGY6UkRGIHhtbG5zOnJkZj0iaHR0cDovL3d3dy53My5vcmcvMTk5OS8wMi8yMi1yZGYtc3ludGF4LW5zIyI+PHJkZjpEZXNjcmlwdGlvbiByZGY6YWJvdXQ9InV1aWQ6ZmFmNWJkZDUtYmEzZC0xMWRhLWFkMzEtZDMzZDc1MTgyZjFiIiB4bWxuczpkYz0iaHR0cDovL3B1cmwub3JnL2RjL2VsZW1lbnRzLzEuMS8iLz48cmRmOkRlc2NyaXB0aW9uIHJkZjphYm91dD0idXVpZDpmYWY1YmRkNS1iYTNkLTExZGEtYWQzMS1kMzNkNzUxODJmMWIiIHhtbG5zOnhtcD0iaHR0cDovL25zLmFkb2JlLmNvbS94YXAvMS4wLyI+PHhtcDpDcmVhdGVEYXRlPjIwMjEtMTEtMjVUMjE6NTM6NDEuNTIyPC94bXA6Q3JlYXRlRGF0ZT48L3JkZjpEZXNjcmlwdGlvbj48cmRmOkRlc2NyaXB0aW9uIHJkZjphYm91dD0idXVpZDpmYWY1YmRkNS1iYTNkLTExZGEtYWQzMS1kMzNkNzUxODJmMWIiIHhtbG5zOmRjPSJodHRwOi8vcHVybC5vcmcvZGMvZWxlbWVudHMvMS4xLyI+PGRjOmNyZWF0b3I+PHJkZjpTZXEgeG1sbnM6cmRmPSJodHRwOi8vd3d3LnczLm9yZy8xOTk5LzAyLzIyLXJkZi1zeW50YXgtbnMjIj48cmRmOmxpPkxvdmVwcmVldDwvcmRmOmxpPjwvcmRmOlNlcT4NCgkJCTwvZGM6Y3JlYXRvcj48L3JkZjpEZXNjcmlwdGlvbj48L3JkZjpSREY+PC94OnhtcG1ldGE+DQogICAgICAgICAgICAgICAgICAgICAgICAgICAgICAgICAgICAgICAgICAgICAgICAgICAgICAgICAgICAgICAgICAgICAgICAgICAgICAgICAgICAgICAgICAgICAgICAgICAgCiAgICAgICAgICAgICAgICAgICAgICAgICAgICAgICAgICAgICAgICAgICAgICAgICAgICAgICAgICAgICAgICAgICAgICAgICAgICAgICAgICAgICAgICAgICAgICAgICAgICAKICAgICAgICAgICAgICAgICAgICAgICAgICAgICAgICAgICAgICAgICAgICAgICAgICAgICAgICAgICAgICAgICAgICAgICAgICAgICAgICAgICAgICAgICAgICAgICAgICAgIAogICAgICAgICAgICAgICAgICAgICAgICAgICAgICAgICAgICAgICAgICAgICAgICAgICAgICAgICAgICAgICAgICAgICAgICAgICAgICAgICAgICAgICAgICAgICAgICAgICAgCiAgICAgICAgICAgICAgICAgICAgICAgICAgICAgICAgICAgICAgICAgICAgICAgICAgICAgICAgICAgICAgICAgICAgICAgICAgICAgICAgICAgICAgICAgICAgICAgICAgICAKICAgICAgICAgICAgICAgICAgICAgICAgICAgICAgICAgICAgICAgICAgICAgICAgICAgICAgICAgICAgICAgICAgICAgICAgICAgICAgICAgICAgICAgICAgICAgICAgICAgIAogICAgICAgICAgICAgICAgICAgICAgICAgICAgICAgICAgICAgICAgICAgICAgICAgICAgICAgICAgICAgICAgICAgICAgICAgICAgICAgICAgICAgICAgICAgICAgICAgICAgCiAgICAgICAgICAgICAgICAgICAgICAgICAgICAgICAgICAgICAgICAgICAgICAgICAgICAgICAgICAgICAgICAgICAgICAgICAgICAgICAgICAgICAgICAgICAgICAgICAgICAKICAgICAgICAgICAgICAgICAgICAgICAgICAgICAgICAgICAgICAgICAgICAgICAgICAgICAgICAgICAgICAgICAgICAgICAgICAgICAgICAgICAgICAgICAgICAgICAgICAgIAogICAgICAgICAgICAgICAgICAgICAgICAgICAgICAgICAgICAgICAgICAgICAgICAgICAgICAgICAgICAgICAgICAgICAgICAgICAgICAgICAgICAgICAgICAgICAgICAgICAgCiAgICAgICAgICAgICAgICAgICAgICAgICAgICAgICAgICAgICAgICAgICAgICAgICAgICAgICAgICAgICAgICAgICAgICAgICAgICAgICAgICAgICAgICAgICAgICAgICAgICAKICAgICAgICAgICAgICAgICAgICAgICAgICAgICAgICAgICAgICAgICAgICAgICAgICAgICAgICAgICAgICAgICAgICAgICAgICAgICAgICAgICAgICAgICAgICAgICAgICAgIAogICAgICAgICAgICAgICAgICAgICAgICAgICAgICAgICAgICAgICAgICAgICAgICAgICAgICAgICAgICAgICAgICAgICAgICAgICAgICAgICAgICAgICAgICAgICAgICAgICAgCiAgICAgICAgICAgICAgICAgICAgICAgICAgICAgICAgICAgICAgICAgICAgICAgICAgICAgICAgICAgICAgICAgICAgICAgICAgICAgICAgICAgICAgICAgICAgICAgICAgICAKICAgICAgICAgICAgICAgICAgICAgICAgICAgICAgICAgICAgICAgICAgICAgICAgICAgICAgICAgICAgICAgICAgICAgICAgICAgICAgICAgICAgICAgICAgICAgICAgICAgIAogICAgICAgICAgICAgICAgICAgICAgICAgICAgICAgICAgICAgICAgICAgICAgICAgICAgICAgICAgICAgICAgICAgICAgICAgICAgICAgICAgICAgICAgICAgICAgICAgICAgCiAgICAgICAgICAgICAgICAgICAgICAgICAgICAgICAgICAgICAgICAgICAgICAgICAgICAgICAgICAgICAgICAgICAgICAgICAgICAgICAgICAgICAgICAgICAgICAgICAgICAKICAgICAgICAgICAgICAgICAgICAgICAgICAgICAgICAgICAgICAgICAgICAgICAgICAgICAgICAgICAgICAgICAgICAgICAgICAgICAgICAgICAgICAgICAgICAgICAgICAgIAogICAgICAgICAgICAgICAgICAgICAgICAgICAgICAgICAgICAgICAgICAgICAgICAgICAgICAgICAgICAgICAgICAgICAgICAgICAgICAgICAgICAgICAgICAgICAgICAgICAgCiAgICAgICAgICAgICAgICAgICAgICAgICAgICAgICAgICAgICAgICAgICAgICAgICAgICAgICAgICAgICAgICAgICAgICAgICAgICAgICAgICAgICAgICAgICAgICAgICAgICAKICAgICAgICAgICAgICAgICAgICAgICAgICAgIDw/eHBhY2tldCBlbmQ9J3cnPz7/2wBDAAcFBQYFBAcGBQYIBwcIChELCgkJChUPEAwRGBUaGRgVGBcbHichGx0lHRcYIi4iJSgpKywrGiAvMy8qMicqKyr/2wBDAQcICAoJChQLCxQqHBgcKioqKioqKioqKioqKioqKioqKioqKioqKioqKioqKioqKioqKioqKioqKioqKioqKir/wAARCABlAYIDASIAAhEBAxEB/8QAHwAAAQUBAQEBAQEAAAAAAAAAAAECAwQFBgcICQoL/8QAtRAAAgEDAwIEAwUFBAQAAAF9AQIDAAQRBRIhMUEGE1FhByJxFDKBkaEII0KxwRVS0fAkM2JyggkKFhcYGRolJicoKSo0NTY3ODk6Q0RFRkdISUpTVFVWV1hZWmNkZWZnaGlqc3R1dnd4eXqDhIWGh4iJipKTlJWWl5iZmqKjpKWmp6ipqrKztLW2t7i5usLDxMXGx8jJytLT1NXW19jZ2uHi4+Tl5ufo6erx8vP09fb3+Pn6/8QAHwEAAwEBAQEBAQEBAQAAAAAAAAECAwQFBgcICQoL/8QAtREAAgECBAQDBAcFBAQAAQJ3AAECAxEEBSExBhJBUQdhcRMiMoEIFEKRobHBCSMzUvAVYnLRChYkNOEl8RcYGRomJygpKjU2Nzg5OkNERUZHSElKU1RVVldYWVpjZGVmZ2hpanN0dXZ3eHl6goOEhYaHiImKkpOUlZaXmJmaoqOkpaanqKmqsrO0tba3uLm6wsPExcbHyMnK0tPU1dbX2Nna4uPk5ebn6Onq8vP09fb3+Pn6/9oADAMBAAIRAxEAPwD6RooooAKKKKACiiigAooooAKKKKACiiigAooooAKKKKACiiigAooooAKKKKACiiigAooooAKKKKACiiigAooooAKKKKACiiigAooooAKKKKACiiigAooooAKKKKACiiigAooooAKKKKACiiigAooooAKKKKACiiigAooooAxdR8Rix1g6bBpWoX86wLcMbVYyqqzMozudecoa0rC6e9s0nktJ7NmJzDcBQ64OOdpI/WsiH/ko17/2Cbf/ANHTVv0AFFFFABRRUZnhFytuZUE7IXWLcNxUEAtjrgEgZ9xQBJRRRQAUUUUAFFFFABRWX4n1ObRfCOr6parG89jYzXEayAlSyRlgCAQcZHqKuX99b6ZYT3t4zJbwIZJGVGfaoGScKCelAFiis3TNf07WNDTV9OklmsZF3pJ9nkUuvqFKhiPoKTw/4i0vxRpSalodw1zZyEhJjC8YbBION4BPIIoA06KiguYblpBA+/ynKMQONw6jPQ46HHQ8dRUtABRRRQAVDd3ltp9pJdX9xFbW8Q3STTOERB6kngUouoTeG134mCb9hGCVzjI9cHrjpkZ6isRdVhubrWf7VhiaLSdRSC2CqSzlraFxwTgsWmZR07fWgDct7mC8to7i0mjngkXcksTBlceoI4IqSsTwnpcWj6K1pE8e43M08kUTArA8shlMYx0C7wB7c9626ACs/U9Tl04xeTpV9qHmZz9kEZ2Yx13OvXPbPStCigDN0XWo9ahuWS0ubR7Wc28sVyFDBgqt/CxGMOO9aVYHhn/kIeI/+wsf/RENb9ABRRRQAUUUUAFFFFABRRRQAUUUUAFFFFADZJEijaSVgiICzMxwAB1JqppOsWOuWIvNLnE8G4ru2lSCOxDAEdjyOQQehFYvxC8RL4V8GXWqyaampxxPGrWrTGMyFpFUAfK2eTnGOQDVprnU7S6tJ30azD3kkcN28V6xaIYODjywHweOo60AbtFUotSW41WaztVEn2bAuZN2BGxGVT3bBBI7Aj1q7QAUUUUAFFV765eztGuEgadY/mkRPvbR1KjHJ9u9SW1zDeWsVzayLLBMgkjkQ5DqRkEe2KAJKKKKAMCH/ko17/2Cbf8A9HTVv1z0Eaf8LMvZcfP/AGRbrn286auhoAKKKKACuBitIbX4/oYUw0nhmQuzMWZj9qQck8mu+ri5LLVv+Fuxa4ujXTaeuivYtL5sH+sMyuOPMzjC+lAHaUUUUAFFFFABRRRQBz/j7/km3iX/ALBN1/6Jas34sanJpvwz1UWodrq9QWUCJ95nlITA98E/lWl4+/5Jt4l/7BN1/wCiWqn4w8O6r4h1rw+1ulk2m6bfi9uEnndXkZVIQBQhHBJPJ7UAUde1I+CPhFcollcW66dpYtopXeMgPsEaE4YnliO3em3Zn+H3wNSO2IjvLHTo4EY8BZ32pu/77fNaHjzw/q/ia10yy077ELSLUILq9FxMytJHG24xqAjDnA5PpVvx1os/iLwLqem2yo11JEHhRj8rSIwdVJ9CygZoAh8TasvgH4dz39tHHMumW6qqzSFPMOQoyQDliSPqT1qC98WX+nzeEtLuLe2bWdbkUXUClgsKLHvmZR146DNR+LdKu/HfhLSjostuiG9t7yeG73KssaHc0TYBIO7GRjquDion8Gaq/wATLPxO97ZuqWDW0zGNvMVy4OI15AXaCoyeCzHnNAHaTSeTBJLsd9iltqLlmwOgHc1xtv4m8QXi+J7S1g09tS0mGGSAMHESyPGXMLndlioA+YbQdw4GDW7o1xrUmqatDrAsmtopx9iktN2fLOfkkDfxjAJI4+asDTPBup2N1r9o9xbnTda1KS9muRI5uDG4UGDbtwo4I3hidp4APNAB4n1uaP4d6Z4uaL7Jc2v2S9eJj91JCiyxk/7rsOe4B7Vc07SdO1nVfFdtrGn2t/AusxuIrqFZVDfYbXnDAjPJ596Xx/YjV/DUfh2BFZ9UuIYNoH3IldXkf6BFPtkqO+Da8Of8h7xZ/wBhaP8A9IbWgDX0/TbHSbNbTSrK3srZSSsNtEsaAnknaoAqzRRQAUUUUAYHhn/kIeI/+wsf/RENb9c94WjSPUPEuwY3auzN7nyIasQ+IBqOpXNpotuLwWb+Xc3LSbIkk7xhgCWYZ5wMDoTnigDZorFi1u8HieLRrvSnjMtu9yt3HKHh2oyqVyQDuy68Y6HOeKvWOorqLzPbLuto3MazbuJHU4baPQHjPqD6ZIBcooooAKKKpXupJp9zbi6XZb3DiFZs8LIxwqsOwJ4B9SB3FAF2iiigAooooAKKKKAPPfiSkus+I/CHhm1lCNc6j9vnym4eVbjdhhkcEkDrXY6dHqYvr59TlhePeiWwhRlGwLksQSeSzEdeiiqT+E7eTxrF4nkv71ruG2NrHCTH5Kxltx42ZznvnNb1AHF/De8+0+AZdXu5Gie8vL25ndgAUxPIv04VAPwrj4PGGsaX8Fp9aur28uda8RXMi6VHIQXiEjeXFjA2qAoDZ6ZYdyK7vTtAhs7DV/DF2HGn6g9w9u6tgmOfLSRg9mVmfHsQexxC3w10h/D+m6U95qJXTJoJYLjzx5o8n7in5du32AHPPXmgDp7CCS1022t55mnlihRHlc5aRgACxPqTzXDeIb/Uo/ih4b0uyu5/tNzcSXM8ccreTFZIhG10ztJZudxBIIwDjr0sugMviPSr6zvr6CGyheGS1E2YJkKnG5Tkl9207s/wnPXk1TwtbalrsGsw3l3p+oQwName1KZkhLBjG29W4yM5GGHY0AVvB8d7Fc+IVur+4vrQatJ9jkuH3FUKIXQH+6shkQDttxVX4b3Dvoep2bbtmm6ze2cRI/gWZioHsA2PwroSLfQ9JWK0gZkiXZDAhy0jdhk9STyST6knqaq+F9FOhaDHbSlWuZZJLm5ZSSGmkcu+M9ssQPYCgDJ1DxDc2+o3EKeKPC9uqSFRDcg+YnPRv3w5/AVpeHdUl1JrjztY0fUvLC4GmZ/d5z97943XHHToa1ms7Z2LPbxMxOSSgJNPigihz5MSR567FAzQBhw/8lGvf+wTb/8Ao6arep6teWFysVr4f1HUkKBjNayWyqpyflPmyoc8Z6Y5HPXFSHP/AAsi94GP7Jt+c/8ATaat+gDn/wDhI9U/6EzXP+/1j/8AJNH/AAkeqf8AQma5/wB/rH/5Jq1beKNJu/EdzoVvPK+o2qB54fs0oEakZBLldvPbmk/4SjSf+En/AOEe+0Sf2p5P2jyPs0v+r3bd+7btxnjOaAK3/CR6p/0Jmuf9/rH/AOSaP+Ej1T/oTNc/7/WP/wAk1ty3MMM8ULv+9mJ2IBknHU/QZHPTkeoqWgDn/wDhI9U/6EzXP+/1j/8AJNH/AAkeqf8AQma5/wB/rH/5JroKKAOf/wCEj1T/AKEzXP8Av9Y//JNXNM1a8v7lorrw/qOmoELCa6ktmVjkfKPKlc55z0xweemb9zdQ2cBmuX8uJSNzkcL7k9h79BUtAGPfa1f2l7JBb+GNVvo1xi4t5bUI+QDwHnVuOnKjp6c1X/4SPVP+hM1z/v8AWP8A8k1oTap5PiSy0nyc/arS4ufN3fd8p4V24xznzs5zxt754de63pWm3EMGo6nZ2k05xFHPcIjSH0UE5P4UAYOr6hfa1ol9pd14O19IL63kt5GjnsAwV1Kkgm4Izg+hq5/wkeqf9CZrn/f6x/8AkmtO/wBZ0vSmiGqalaWRmYJELidY/MY9Au4jJ+lWjNGsJmaRREF3lyw2hcZzn0oAwv8AhI9U/wChM1z/AL/WP/yTR/wkeqf9CZrn/f6x/wDkmt8EMoIOQRkGloA5qLWr+B5Wh8E64hlbe+J7LBPrj7TjP86l/wCEj1T/AKEzXP8Av9Y//JNdBSO6xozuwVVGWYnAAoAwB4i1MdPBetj/ALbWP/yTR/wkeqf9CZrn/f6x/wDkmr+uauujeF9R1lIxcrZWct0Iw+0ShELY3YOM464NYnifw9a6lqdlLbArrIu4Z4rvJ3W0KOhkAPZGVSu3oS/OecAE41q/W6a4HgnXPOZQhcz2ROB2H+k8D6VBZahfWF3qNxD4O19n1C4FxKGnsMKwijiwv+kdNsSnnPJP0HWUUAc//wAJHqn/AEJmuf8Af6x/+SaP+Ej1T/oTNc/7/WP/AMk10FUdQ1vStIMY1XU7OxMrBYxc3Cx7yew3EZNAGb/wkeqf9CZrn/f6x/8AkmtixuZbuyjnuLKexkbObe4ZC6YJHJRmXnrwx6+vFRXetaXYSwRX2pWdtJcnECTTqhl/3QTz+FXaAOIur660zwz48vtPUtdW888kOOzC1iIPHp1q98M7OCy+GOgLbYPnWMdxI2clpJF3uSe53Mas+Gl333iVZFUqdVYYPII8iHrVnT/DkOkWn2PSLy6srNSTHboUZIsnJC71YgZPC5wOgAHFAHOv41vL3TvGc0OmQwHw7FPFFcpcGVpZVi3kBdgxghe55+lS2t5F4b+CVvepLJELPREmDqRvL+UD1IIyWP5mtzTPC2l6Tol1pVrE7W948slyZXLNM8n32YnufyrGj8MQ614Ak8E+IpZ/3EKWzTROFeWJGHlyqSDyQq5yDzkHPcA5i71nW9N8CeEvD0mpXkniXxBPCZrktmSCN38yUk9F2qSgHoDjoa9Wk3+U/khTJtO0McDPbPtXNXngLS7680u7uLm/NxpryOsguMNPvTYwc46beBt24ycYzV600aW28XXmpx3t6be4t0ia0llDQIy42tGmPk4znnBLe1AHH+F77UNT+JXiSwi1C8fS9PsUtbud5mYPesctJEGJWPaNw2qAMgEjpU08N6PgDqH9o38t7cQ6bczw3kpzJIqb3gcn+9tWM59ea318EWEd9fyw3d7DZ6lObi80+NkEM8hADMTt38hRlQ4U9xyczeKrNtX0WXw/bDB1BPJmZeBDAeHY/wDAcqB3J9ASADS0a8bUNCsL2RSr3NtHKwIwQWUH+tXKbFGkMKRRLtRFCqo7AdBTqACiiigAooooAKKKKACiiigAooooAKKKKACiiigDloJH/wCFvX0e47P7Ct229s+fNzXU1ykH/JYr7/sA2/8A6UTV0GqC+bS7hdKEJvGjYQ+fIUQNjgkhSevtQBwXw9uZdQ8R+L/Ei2NzcJf6l9lgkVk2mK3XYCNzDgktVrwW/wDbfxI8Ya8VIjt5IdIgDYyhiXdKpxx99x37VseC9AvvCngGy0cx2j3trEQSkzeXLISWLFtmRkknoab8PfD2o+GPCi2GtNay373E1xcTWrsySPJIzZ+ZVI4IH4UAN8I3razrniXUpW3CDUW02Bf+eccKqD+cjOT+HpVbRfHE17ceLLrU4rW20nw/MbcTxSMxkdFLS5JwOMoMAdc1Z8J2Z0XXPEemSqF+0ag+p27f89I5gu78VkDg47Fc9eeVb4ZeIJ/hZqPhm71DTmvLmaScSgPsnkeXfvlOMg46AA4IBycCgDu/CGr3ev8Ag/TNX1G3jtp76ATmKMkqqtyvJ/2SKoeIvEl/o+saZDBBD9mutQgsiJUYyTmTJYoQQFCKNxJDZ5XgjNSyrr+ljQrexOnS24l8q9iZXVhHgBRDjI+QZJ3dQO2cVF4p8OX+p+I/D2taYbeWXRpZ2NrdStHHKJY9m7cqt8y9RxzkjI60AWdJ1LUr3xJr+k6xZ2wtbXyWtJYskTRSK2VcH+IFDnthh9TW8BX8lzo99YzSea+kalcaeHJyWSNsx599jID9K19Nsv7Ktbi4v7hZLidzPdTkbVzgDAB6KqqAPYZPJJrJ8B6fJa6PfX08Rhk1jUZ9R8sggqkjYjyDyDsVCQehJoAnvP8AkpOjf9gm/wD/AEdZ1zPiK4j1H44eHbJxI8Wi2M+oSrHC0nzyfu0ztBI9a6a+OPiPo5AJ/wCJRqHA7/vrOsvwjpWpx+NvFOt6zps1o2oTRR2jSSxuPIjTaOEc4JJJwaAKPiqaLxF8SPB2ixozR2s0uq3CyxMhURLtjOGA/jb9PatzU75r7x/pugD/AI94bR9SulP8eHVIl+m4s31QVR0TTNVl+Kuu69qulSW1s1nBZadM8sTkxgs8mQrErl8cYqe5tDZ/F+y1ORT5WoaQ9gj54EkcvmhfqVZyP9w0AXL7xX9k8dab4Zj0+WaW9hkuHuPMUJDGgPzEck5bC9B19qn0XxJDret61Y20DCPSZ0tmuNwKyyFNzKB225APvXPx6Hrx+K+s6w1pEltPYQWdhfmVT5MYy0o2dS28gjIA469qpeB9K8SeC/h3fg6HFNqn2ia5+zPfruuXaQ/M0p4A8sLyeTg5xQB1HivxMfDel3N3FbR3Btbd7qYTTmFFjX/aCsdzHhVxyQeRUMXjBp9U8ORJpU4stftTNFds4Hkv5fmiN065KBuc9RjntneP9EvfG3gOzt7S3k2TXFtc3dlvVJJYQQzxBiQofpjJAyvWtrTrW7vdRhv76yOnQWsRjtLJ3RnUtgM77CVBwNoCk4BbJ5wADlvEl6bPSvHvh4lvJTQ5dQtQf4EkjlV0HsHQkem/HQAV1V74R0nUNUk1C6W9M8oUSBNRuEjcL0BjVwhHXgjByc9TXHeLrI3d9481hf8AU2nhd9NDA9ZNksrj8A8f516ZQAhIVSWIAAySe1Y11r0cPiXTrBJ7YwXMFxJIxcZBQx7cHP8AtmtiSNJonimRZI3Uq6MMhgeoI7iuVu/BGjyeKNMuYvD2mfY4be4WfFrEBuYx7MjHPRue340AdUkiSoGjdXU9CpyK8x+Juu2Vn478Lwajk2WlibWLsqpYqEXZFx7ucZOBXpVpZ2un2q29hbQ20C5KxQxhFGeTgDjrXFab4evNT+IviXU/EWjMun3llDp9p5zxOskABMgYK5Iyx6EdKAOk0uye6ki1fUzFNdsh8gRHdHbxtg7UPckYy/ftgcVr1xPw/sNe8OreeHtS0+4bSLOU/wBlX0k0TEwHkRuA5bKngHHI9MV21AHLeDJHk1DxZvYtt111Gew+zwcV1Ncp4J/5CHi3/sPSf+k8FdXQAUUUUAFFFFABRRRQAUUUUAFFFFABRRRQAUUUUAFFFFABRRRQAUUUUAFFFFAHM3y6nYeNJtSs9Fm1CCbT4rffDNEhVlkkYg72B6OK3rG4nubNJbqzkspWzugkdWZefVSRz161YooAKKKKAIpbaKaSKSRMvC25GBwV4wenb2qWiigAwM5xz60UUUARXFtFdR+XcJvTcGKk8HByM+o9jUtFFAGXcaZNL4u0/VFaMQW1jdW7qSdxaWSBlIGMYxC2ee469tSiigAqC8s4b638qdcgEMrDhkYchgexBqeigBFBCgEliB1PekkjSWMpIoZT1B6GnUUAFI4LIwDFCRgMMZHvzS0UAYuuaF9t8E6tommCOKS9sp4I2kJx5kiMNzHBJyzZJ5PWtqiigAooooAKKKKACs/U7+9sjF9h0i41Hfnd5MsSbMYxnewzn29K0KKAMHwta3kP9r3GoWDWD3uoNcJE7o7bfKjXJKEjqh71vUUUAFFFFABRRRQAUUUUAFFFFABRRRQAUUUUAFFFFABRRRQAUUUUAFFFFABRRRQAUUUUAFFFFABRRRQAUUUUAFFFFABRRRQAUUUUAFFFFABRRRQAUUUUAFFFFABRRRQAUUUUAFFFFABRRRQAUUUUAFFFFABRRRQAUUUUAf/Z)"
   ]
  },
  {
   "cell_type": "code",
   "execution_count": null,
   "id": "HQqfVAJhbDxC",
   "metadata": {
    "colab": {
     "base_uri": "https://localhost:8080/",
     "height": 286
    },
    "id": "HQqfVAJhbDxC",
    "outputId": "a7a810e1-f89d-4612-e09c-5cb48d272f10"
   },
   "outputs": [],
   "source": [
    "s=n.shape        #image shape\n",
    "new_real=[]\n",
    "new_img=[]\n",
    "a=0.999\n",
    "b=0.999               #hyper parameters\n",
    "m=10\n",
    "dft=cv2.dft(np.float32(n),flags=cv2.DFT_COMPLEX_OUTPUT)                    #dft of image\n",
    "fshift = np.fft.fftshift(dft)                                 #center shifting\n",
    "for i in range(s[0]):\n",
    "  for j in range(s[1]):              #traversing each image pixel\n",
    "    if(i==0 and j==0):\n",
    "      k=0\n",
    "      new_real.append(k)          #preventing division by zero \n",
    "      new_img.append(k)\n",
    "      continue\n",
    "    h=abs(degradation_function(i,j,a,b))**2              #implementing wiener filter\n",
    "    re=degradation_function(i,j,a,b).real\n",
    "    im=degradation_function(i,j,a,b).imag\n",
    "    re_shift=fshift[i,j,0]\n",
    "    im_shift=fshift[i,j,1]\n",
    "    \n",
    "    mul=complex(fshift[i,j,0],fshift[i,j,1])/complex(re,im)     #inverse filtering\n",
    "    multiplication=(h/(h+m))*mul                       \n",
    "    new_real.append(multiplication.real)\n",
    "    new_img.append(multiplication.imag)\n",
    "Y_real=np.array(new_real).reshape(s[0],s[1])\n",
    "Y_img=np.array(new_img).reshape(s[0],s[1])\n",
    "Y=np.dstack((Y_real,Y_img))\n",
    "f_ishift=np.fft.ifftshift(Y)              #inverse of center shifting\n",
    "img_back=cv2.idft(f_ishift)              #idft\n",
    "img_back1=cv2.magnitude(img_back[:,:,0],img_back[:,:,1])         #magnitude spectrum\n",
    "plt.imshow(img_back1, cmap = 'gray')          #image plot\n",
    "\n"
   ]
  },
  {
   "cell_type": "markdown",
   "id": "m-AN6dTY5FI3",
   "metadata": {
    "id": "m-AN6dTY5FI3"
   },
   "source": [
    "saving resulting image"
   ]
  },
  {
   "cell_type": "code",
   "execution_count": null,
   "id": "RrplrHBSbWDm",
   "metadata": {
    "id": "RrplrHBSbWDm"
   },
   "outputs": [],
   "source": [
    "norm=np.amax(img_back1)\n",
    "k=img_back1*255/norm\n",
    "k=k.astype(int)\n",
    "j=np.uint8(k)\n",
    "im5=Image.fromarray(j)\n",
    "im1=im5.save(\"/content/gdrive/My Drive/f4.jpg\")"
   ]
  },
  {
   "cell_type": "code",
   "execution_count": null,
   "id": "cF_xj9u2k2Wg",
   "metadata": {
    "id": "cF_xj9u2k2Wg"
   },
   "outputs": [],
   "source": []
  }
 ],
 "metadata": {
  "colab": {
   "collapsed_sections": [],
   "name": "EE610 Project part -1,2,5,6.ipynb",
   "provenance": []
  },
  "kernelspec": {
   "display_name": "Python 3",
   "language": "python",
   "name": "python3"
  },
  "language_info": {
   "codemirror_mode": {
    "name": "ipython",
    "version": 3
   },
   "file_extension": ".py",
   "mimetype": "text/x-python",
   "name": "python",
   "nbconvert_exporter": "python",
   "pygments_lexer": "ipython3",
   "version": "3.8.8"
  }
 },
 "nbformat": 4,
 "nbformat_minor": 5
}
